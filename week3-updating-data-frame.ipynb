{
 "cells": [
  {
   "cell_type": "markdown",
   "id": "c56fc67b-174a-4bd6-a110-483bc6ac4af5",
   "metadata": {},
   "source": [
    "# Updating data frames\n",
    "\n",
    "We will go over methods for updating a `pandas.DataFrame` using Palmer penguins.\n",
    "\n",
    "## Adding a single column...\n",
    "\n",
    "Start by importing packages and data."
   ]
  },
  {
   "cell_type": "code",
   "execution_count": 1,
   "id": "ededb9bd-a28f-4c06-adb3-7da557ec06bf",
   "metadata": {
    "tags": []
   },
   "outputs": [],
   "source": [
    "import numpy as np\n",
    "import pandas as pd\n",
    "import random # Used for randomly sampling integers\n",
    "\n",
    "# Set the seed\n",
    "random.seed(42)\n",
    "# sets the seed for your notebook\n",
    "\n",
    "# Import data\n",
    "URL = 'https://raw.githubusercontent.com/allisonhorst/palmerpenguins/main/inst/extdata/penguins.csv'\n",
    "penguins = pd.read_csv(URL)"
   ]
  },
  {
   "cell_type": "code",
   "execution_count": 2,
   "id": "16ed72ec-be57-4776-b5c6-8c79fa2a2a92",
   "metadata": {
    "tags": []
   },
   "outputs": [
    {
     "data": {
      "text/html": [
       "<div>\n",
       "<style scoped>\n",
       "    .dataframe tbody tr th:only-of-type {\n",
       "        vertical-align: middle;\n",
       "    }\n",
       "\n",
       "    .dataframe tbody tr th {\n",
       "        vertical-align: top;\n",
       "    }\n",
       "\n",
       "    .dataframe thead th {\n",
       "        text-align: right;\n",
       "    }\n",
       "</style>\n",
       "<table border=\"1\" class=\"dataframe\">\n",
       "  <thead>\n",
       "    <tr style=\"text-align: right;\">\n",
       "      <th></th>\n",
       "      <th>species</th>\n",
       "      <th>island</th>\n",
       "      <th>bill_length_mm</th>\n",
       "      <th>bill_depth_mm</th>\n",
       "      <th>flipper_length_mm</th>\n",
       "      <th>body_mass_g</th>\n",
       "      <th>sex</th>\n",
       "      <th>year</th>\n",
       "    </tr>\n",
       "  </thead>\n",
       "  <tbody>\n",
       "    <tr>\n",
       "      <th>0</th>\n",
       "      <td>Adelie</td>\n",
       "      <td>Torgersen</td>\n",
       "      <td>39.1</td>\n",
       "      <td>18.7</td>\n",
       "      <td>181.0</td>\n",
       "      <td>3750.0</td>\n",
       "      <td>male</td>\n",
       "      <td>2007</td>\n",
       "    </tr>\n",
       "    <tr>\n",
       "      <th>1</th>\n",
       "      <td>Adelie</td>\n",
       "      <td>Torgersen</td>\n",
       "      <td>39.5</td>\n",
       "      <td>17.4</td>\n",
       "      <td>186.0</td>\n",
       "      <td>3800.0</td>\n",
       "      <td>female</td>\n",
       "      <td>2007</td>\n",
       "    </tr>\n",
       "    <tr>\n",
       "      <th>2</th>\n",
       "      <td>Adelie</td>\n",
       "      <td>Torgersen</td>\n",
       "      <td>40.3</td>\n",
       "      <td>18.0</td>\n",
       "      <td>195.0</td>\n",
       "      <td>3250.0</td>\n",
       "      <td>female</td>\n",
       "      <td>2007</td>\n",
       "    </tr>\n",
       "    <tr>\n",
       "      <th>3</th>\n",
       "      <td>Adelie</td>\n",
       "      <td>Torgersen</td>\n",
       "      <td>NaN</td>\n",
       "      <td>NaN</td>\n",
       "      <td>NaN</td>\n",
       "      <td>NaN</td>\n",
       "      <td>NaN</td>\n",
       "      <td>2007</td>\n",
       "    </tr>\n",
       "    <tr>\n",
       "      <th>4</th>\n",
       "      <td>Adelie</td>\n",
       "      <td>Torgersen</td>\n",
       "      <td>36.7</td>\n",
       "      <td>19.3</td>\n",
       "      <td>193.0</td>\n",
       "      <td>3450.0</td>\n",
       "      <td>female</td>\n",
       "      <td>2007</td>\n",
       "    </tr>\n",
       "  </tbody>\n",
       "</table>\n",
       "</div>"
      ],
      "text/plain": [
       "  species     island  bill_length_mm  bill_depth_mm  flipper_length_mm  \\\n",
       "0  Adelie  Torgersen            39.1           18.7              181.0   \n",
       "1  Adelie  Torgersen            39.5           17.4              186.0   \n",
       "2  Adelie  Torgersen            40.3           18.0              195.0   \n",
       "3  Adelie  Torgersen             NaN            NaN                NaN   \n",
       "4  Adelie  Torgersen            36.7           19.3              193.0   \n",
       "\n",
       "   body_mass_g     sex  year  \n",
       "0       3750.0    male  2007  \n",
       "1       3800.0  female  2007  \n",
       "2       3250.0  female  2007  \n",
       "3          NaN     NaN  2007  \n",
       "4       3450.0  female  2007  "
      ]
     },
     "execution_count": 2,
     "metadata": {},
     "output_type": "execute_result"
    }
   ],
   "source": [
    "penguins.head()"
   ]
  },
  {
   "cell_type": "markdown",
   "id": "433f04f6-514e-47db-bb67-83bdf1f522b7",
   "metadata": {},
   "source": [
    "## ... using dictionary-like syntax\n",
    "\n",
    "Simplest way to add a new column to a `pd.DataFrame`:\n",
    "```\n",
    "df['new_col_name'] = new_column_values\n",
    "```\n",
    "\n",
    "If the column name exists, then the existing column will be updated.\n",
    "This syntax is the same as adding a new key-value pair to a dictionary:\n",
    "```\n",
    "df[new_key] = new_value\n",
    "```\n",
    "\n",
    "### Example\n",
    "\n",
    "Create a new column where the body mass is in kg instead of grams. "
   ]
  },
  {
   "cell_type": "code",
   "execution_count": 3,
   "id": "2bae783b-9bef-4e75-9639-3395bf7bdd32",
   "metadata": {
    "tags": []
   },
   "outputs": [
    {
     "name": "stdout",
     "output_type": "stream",
     "text": [
      "True\n"
     ]
    },
    {
     "data": {
      "text/html": [
       "<div>\n",
       "<style scoped>\n",
       "    .dataframe tbody tr th:only-of-type {\n",
       "        vertical-align: middle;\n",
       "    }\n",
       "\n",
       "    .dataframe tbody tr th {\n",
       "        vertical-align: top;\n",
       "    }\n",
       "\n",
       "    .dataframe thead th {\n",
       "        text-align: right;\n",
       "    }\n",
       "</style>\n",
       "<table border=\"1\" class=\"dataframe\">\n",
       "  <thead>\n",
       "    <tr style=\"text-align: right;\">\n",
       "      <th></th>\n",
       "      <th>species</th>\n",
       "      <th>island</th>\n",
       "      <th>bill_length_mm</th>\n",
       "      <th>bill_depth_mm</th>\n",
       "      <th>flipper_length_mm</th>\n",
       "      <th>body_mass_g</th>\n",
       "      <th>sex</th>\n",
       "      <th>year</th>\n",
       "      <th>body_mass_kg</th>\n",
       "    </tr>\n",
       "  </thead>\n",
       "  <tbody>\n",
       "    <tr>\n",
       "      <th>0</th>\n",
       "      <td>Adelie</td>\n",
       "      <td>Torgersen</td>\n",
       "      <td>39.1</td>\n",
       "      <td>18.7</td>\n",
       "      <td>181.0</td>\n",
       "      <td>3750.0</td>\n",
       "      <td>male</td>\n",
       "      <td>2007</td>\n",
       "      <td>3.75</td>\n",
       "    </tr>\n",
       "    <tr>\n",
       "      <th>1</th>\n",
       "      <td>Adelie</td>\n",
       "      <td>Torgersen</td>\n",
       "      <td>39.5</td>\n",
       "      <td>17.4</td>\n",
       "      <td>186.0</td>\n",
       "      <td>3800.0</td>\n",
       "      <td>female</td>\n",
       "      <td>2007</td>\n",
       "      <td>3.80</td>\n",
       "    </tr>\n",
       "    <tr>\n",
       "      <th>2</th>\n",
       "      <td>Adelie</td>\n",
       "      <td>Torgersen</td>\n",
       "      <td>40.3</td>\n",
       "      <td>18.0</td>\n",
       "      <td>195.0</td>\n",
       "      <td>3250.0</td>\n",
       "      <td>female</td>\n",
       "      <td>2007</td>\n",
       "      <td>3.25</td>\n",
       "    </tr>\n",
       "    <tr>\n",
       "      <th>3</th>\n",
       "      <td>Adelie</td>\n",
       "      <td>Torgersen</td>\n",
       "      <td>NaN</td>\n",
       "      <td>NaN</td>\n",
       "      <td>NaN</td>\n",
       "      <td>NaN</td>\n",
       "      <td>NaN</td>\n",
       "      <td>2007</td>\n",
       "      <td>NaN</td>\n",
       "    </tr>\n",
       "    <tr>\n",
       "      <th>4</th>\n",
       "      <td>Adelie</td>\n",
       "      <td>Torgersen</td>\n",
       "      <td>36.7</td>\n",
       "      <td>19.3</td>\n",
       "      <td>193.0</td>\n",
       "      <td>3450.0</td>\n",
       "      <td>female</td>\n",
       "      <td>2007</td>\n",
       "      <td>3.45</td>\n",
       "    </tr>\n",
       "  </tbody>\n",
       "</table>\n",
       "</div>"
      ],
      "text/plain": [
       "  species     island  bill_length_mm  bill_depth_mm  flipper_length_mm  \\\n",
       "0  Adelie  Torgersen            39.1           18.7              181.0   \n",
       "1  Adelie  Torgersen            39.5           17.4              186.0   \n",
       "2  Adelie  Torgersen            40.3           18.0              195.0   \n",
       "3  Adelie  Torgersen             NaN            NaN                NaN   \n",
       "4  Adelie  Torgersen            36.7           19.3              193.0   \n",
       "\n",
       "   body_mass_g     sex  year  body_mass_kg  \n",
       "0       3750.0    male  2007          3.75  \n",
       "1       3800.0  female  2007          3.80  \n",
       "2       3250.0  female  2007          3.25  \n",
       "3          NaN     NaN  2007           NaN  \n",
       "4       3450.0  female  2007          3.45  "
      ]
     },
     "execution_count": 3,
     "metadata": {},
     "output_type": "execute_result"
    }
   ],
   "source": [
    "# Add a new column body_mass_kg\n",
    "penguins['body_mass_kg'] = penguins['body_mass_g']/1000\n",
    "\n",
    "# Confirm the new column is the data frame\n",
    "print('body_mass_kg' in penguins.columns)\n",
    "\n",
    "# Look at the new column\n",
    "penguins.head()"
   ]
  },
  {
   "cell_type": "markdown",
   "id": "54efbdac-1f23-47fa-a721-310b3a77bca2",
   "metadata": {},
   "source": [
    "## using the `assign()` method\n",
    "\n",
    "We can also create or update an existing column using `assign()`:\n",
    "```\n",
    "df = df.assign(new_col_name = new_col_values)\n",
    "```\n",
    "\n",
    "Notice: column names are not strings, we declare them as if we were creating variables.\n",
    "It doesn't modify things in place, this can be useful for chaining operations:"
   ]
  },
  {
   "cell_type": "code",
   "execution_count": 4,
   "id": "270559ac-da22-4230-934b-5c4e7387744b",
   "metadata": {
    "tags": []
   },
   "outputs": [
    {
     "data": {
      "text/plain": [
       "<AxesSubplot:xlabel='bill_length_cm', ylabel='body_mass_g'>"
      ]
     },
     "execution_count": 4,
     "metadata": {},
     "output_type": "execute_result"
    },
    {
     "data": {
      "image/png": "[encoded data removed]",
      "text/plain": [
       "<Figure size 640x480 with 1 Axes>"
      ]
     },
     "metadata": {},
     "output_type": "display_data"
    }
   ],
   "source": [
    "(penguins.assign(bill_length_cm=penguins['bill_length_mm']/10)\n",
    " .plot(kind='scatter',\n",
    "     x='bill_length_cm',\n",
    "     y='body_mass_g'))"
   ]
  },
  {
   "cell_type": "code",
   "execution_count": 5,
   "id": "4c1c7cfe-892d-43f6-b3f2-dcebffac047c",
   "metadata": {
    "tags": []
   },
   "outputs": [
    {
     "data": {
      "text/html": [
       "<div>\n",
       "<style scoped>\n",
       "    .dataframe tbody tr th:only-of-type {\n",
       "        vertical-align: middle;\n",
       "    }\n",
       "\n",
       "    .dataframe tbody tr th {\n",
       "        vertical-align: top;\n",
       "    }\n",
       "\n",
       "    .dataframe thead th {\n",
       "        text-align: right;\n",
       "    }\n",
       "</style>\n",
       "<table border=\"1\" class=\"dataframe\">\n",
       "  <thead>\n",
       "    <tr style=\"text-align: right;\">\n",
       "      <th></th>\n",
       "      <th>species</th>\n",
       "      <th>island</th>\n",
       "      <th>bill_length_mm</th>\n",
       "      <th>bill_depth_mm</th>\n",
       "      <th>flipper_length_mm</th>\n",
       "      <th>body_mass_g</th>\n",
       "      <th>sex</th>\n",
       "      <th>year</th>\n",
       "      <th>body_mass_kg</th>\n",
       "    </tr>\n",
       "  </thead>\n",
       "  <tbody>\n",
       "    <tr>\n",
       "      <th>0</th>\n",
       "      <td>Adelie</td>\n",
       "      <td>Torgersen</td>\n",
       "      <td>39.1</td>\n",
       "      <td>18.7</td>\n",
       "      <td>181.0</td>\n",
       "      <td>3750.0</td>\n",
       "      <td>male</td>\n",
       "      <td>2007</td>\n",
       "      <td>3.75</td>\n",
       "    </tr>\n",
       "    <tr>\n",
       "      <th>1</th>\n",
       "      <td>Adelie</td>\n",
       "      <td>Torgersen</td>\n",
       "      <td>39.5</td>\n",
       "      <td>17.4</td>\n",
       "      <td>186.0</td>\n",
       "      <td>3800.0</td>\n",
       "      <td>female</td>\n",
       "      <td>2007</td>\n",
       "      <td>3.80</td>\n",
       "    </tr>\n",
       "    <tr>\n",
       "      <th>2</th>\n",
       "      <td>Adelie</td>\n",
       "      <td>Torgersen</td>\n",
       "      <td>40.3</td>\n",
       "      <td>18.0</td>\n",
       "      <td>195.0</td>\n",
       "      <td>3250.0</td>\n",
       "      <td>female</td>\n",
       "      <td>2007</td>\n",
       "      <td>3.25</td>\n",
       "    </tr>\n",
       "    <tr>\n",
       "      <th>3</th>\n",
       "      <td>Adelie</td>\n",
       "      <td>Torgersen</td>\n",
       "      <td>NaN</td>\n",
       "      <td>NaN</td>\n",
       "      <td>NaN</td>\n",
       "      <td>NaN</td>\n",
       "      <td>NaN</td>\n",
       "      <td>2007</td>\n",
       "      <td>NaN</td>\n",
       "    </tr>\n",
       "    <tr>\n",
       "      <th>4</th>\n",
       "      <td>Adelie</td>\n",
       "      <td>Torgersen</td>\n",
       "      <td>36.7</td>\n",
       "      <td>19.3</td>\n",
       "      <td>193.0</td>\n",
       "      <td>3450.0</td>\n",
       "      <td>female</td>\n",
       "      <td>2007</td>\n",
       "      <td>3.45</td>\n",
       "    </tr>\n",
       "  </tbody>\n",
       "</table>\n",
       "</div>"
      ],
      "text/plain": [
       "  species     island  bill_length_mm  bill_depth_mm  flipper_length_mm  \\\n",
       "0  Adelie  Torgersen            39.1           18.7              181.0   \n",
       "1  Adelie  Torgersen            39.5           17.4              186.0   \n",
       "2  Adelie  Torgersen            40.3           18.0              195.0   \n",
       "3  Adelie  Torgersen             NaN            NaN                NaN   \n",
       "4  Adelie  Torgersen            36.7           19.3              193.0   \n",
       "\n",
       "   body_mass_g     sex  year  body_mass_kg  \n",
       "0       3750.0    male  2007          3.75  \n",
       "1       3800.0  female  2007          3.80  \n",
       "2       3250.0  female  2007          3.25  \n",
       "3          NaN     NaN  2007           NaN  \n",
       "4       3450.0  female  2007          3.45  "
      ]
     },
     "execution_count": 5,
     "metadata": {},
     "output_type": "execute_result"
    }
   ],
   "source": [
    "# Notice the bill_length_mm column was not added to the df\n",
    "penguins.head()"
   ]
  },
  {
   "cell_type": "markdown",
   "id": "df963582-8422-4b59-a141-9e121c078861",
   "metadata": {},
   "source": [
    "## at a specific location\n",
    "\n",
    "The new column was added by default at the end of the data frame.\n",
    "If we want to create a new column and insert in a particular position we can use the data frame method `insert()`:\n",
    "\n",
    "### Example\n",
    "Give each penguin observation a unique identifier as a three digit number, add this column at the beginning of the data frame:"
   ]
  },
  {
   "cell_type": "code",
   "execution_count": 6,
   "id": "25c4110c-0d0c-4ca1-88b8-1e0d50e92f2e",
   "metadata": {
    "tags": []
   },
   "outputs": [],
   "source": [
    "# Create a unique random 3-digit codes\n",
    "codes = random.sample(range(100,1000),len(penguins)) # Sampling without replacement\n",
    "\n",
    "# Insert codes at the front of the dataframe\n",
    "penguins.insert(loc=0, # index\n",
    "               column='id_code', # new column name\n",
    "               value=codes)"
   ]
  },
  {
   "cell_type": "code",
   "execution_count": 7,
   "id": "6db5de3f-f88a-4dda-adb3-f3fe4b79c815",
   "metadata": {
    "tags": []
   },
   "outputs": [
    {
     "data": {
      "text/html": [
       "<div>\n",
       "<style scoped>\n",
       "    .dataframe tbody tr th:only-of-type {\n",
       "        vertical-align: middle;\n",
       "    }\n",
       "\n",
       "    .dataframe tbody tr th {\n",
       "        vertical-align: top;\n",
       "    }\n",
       "\n",
       "    .dataframe thead th {\n",
       "        text-align: right;\n",
       "    }\n",
       "</style>\n",
       "<table border=\"1\" class=\"dataframe\">\n",
       "  <thead>\n",
       "    <tr style=\"text-align: right;\">\n",
       "      <th></th>\n",
       "      <th>id_code</th>\n",
       "      <th>species</th>\n",
       "      <th>island</th>\n",
       "      <th>bill_length_mm</th>\n",
       "      <th>bill_depth_mm</th>\n",
       "      <th>flipper_length_mm</th>\n",
       "      <th>body_mass_g</th>\n",
       "      <th>sex</th>\n",
       "      <th>year</th>\n",
       "      <th>body_mass_kg</th>\n",
       "    </tr>\n",
       "  </thead>\n",
       "  <tbody>\n",
       "    <tr>\n",
       "      <th>0</th>\n",
       "      <td>754</td>\n",
       "      <td>Adelie</td>\n",
       "      <td>Torgersen</td>\n",
       "      <td>39.1</td>\n",
       "      <td>18.7</td>\n",
       "      <td>181.0</td>\n",
       "      <td>3750.0</td>\n",
       "      <td>male</td>\n",
       "      <td>2007</td>\n",
       "      <td>3.75</td>\n",
       "    </tr>\n",
       "    <tr>\n",
       "      <th>1</th>\n",
       "      <td>214</td>\n",
       "      <td>Adelie</td>\n",
       "      <td>Torgersen</td>\n",
       "      <td>39.5</td>\n",
       "      <td>17.4</td>\n",
       "      <td>186.0</td>\n",
       "      <td>3800.0</td>\n",
       "      <td>female</td>\n",
       "      <td>2007</td>\n",
       "      <td>3.80</td>\n",
       "    </tr>\n",
       "    <tr>\n",
       "      <th>2</th>\n",
       "      <td>125</td>\n",
       "      <td>Adelie</td>\n",
       "      <td>Torgersen</td>\n",
       "      <td>40.3</td>\n",
       "      <td>18.0</td>\n",
       "      <td>195.0</td>\n",
       "      <td>3250.0</td>\n",
       "      <td>female</td>\n",
       "      <td>2007</td>\n",
       "      <td>3.25</td>\n",
       "    </tr>\n",
       "    <tr>\n",
       "      <th>3</th>\n",
       "      <td>859</td>\n",
       "      <td>Adelie</td>\n",
       "      <td>Torgersen</td>\n",
       "      <td>NaN</td>\n",
       "      <td>NaN</td>\n",
       "      <td>NaN</td>\n",
       "      <td>NaN</td>\n",
       "      <td>NaN</td>\n",
       "      <td>2007</td>\n",
       "      <td>NaN</td>\n",
       "    </tr>\n",
       "    <tr>\n",
       "      <th>4</th>\n",
       "      <td>381</td>\n",
       "      <td>Adelie</td>\n",
       "      <td>Torgersen</td>\n",
       "      <td>36.7</td>\n",
       "      <td>19.3</td>\n",
       "      <td>193.0</td>\n",
       "      <td>3450.0</td>\n",
       "      <td>female</td>\n",
       "      <td>2007</td>\n",
       "      <td>3.45</td>\n",
       "    </tr>\n",
       "  </tbody>\n",
       "</table>\n",
       "</div>"
      ],
      "text/plain": [
       "   id_code species     island  bill_length_mm  bill_depth_mm  \\\n",
       "0      754  Adelie  Torgersen            39.1           18.7   \n",
       "1      214  Adelie  Torgersen            39.5           17.4   \n",
       "2      125  Adelie  Torgersen            40.3           18.0   \n",
       "3      859  Adelie  Torgersen             NaN            NaN   \n",
       "4      381  Adelie  Torgersen            36.7           19.3   \n",
       "\n",
       "   flipper_length_mm  body_mass_g     sex  year  body_mass_kg  \n",
       "0              181.0       3750.0    male  2007          3.75  \n",
       "1              186.0       3800.0  female  2007          3.80  \n",
       "2              195.0       3250.0  female  2007          3.25  \n",
       "3                NaN          NaN     NaN  2007           NaN  \n",
       "4              193.0       3450.0  female  2007          3.45  "
      ]
     },
     "execution_count": 7,
     "metadata": {},
     "output_type": "execute_result"
    }
   ],
   "source": [
    "penguins.head()"
   ]
  },
  {
   "cell_type": "markdown",
   "id": "28867f8e-87b2-48ce-862d-25b718f5dd73",
   "metadata": {},
   "source": [
    "## Adding multiple columns\n",
    "\n",
    "Use `assign()` to create or update mulitple columns in the same call:\n",
    "```\n",
    "df = df.assign(new_col1_name=new_col1_values,\n",
    "new_col2_name=new_col2_values)\n",
    "```\n",
    "\n",
    "### Example \n",
    "\n",
    "We want to add these new columns:\n",
    "- flipper length converted from mm to cm\n",
    "- a code representing the observer"
   ]
  },
  {
   "cell_type": "code",
   "execution_count": 8,
   "id": "6548a22a-5133-4712-92c8-3758acc77a92",
   "metadata": {
    "tags": []
   },
   "outputs": [
    {
     "data": {
      "text/html": [
       "<div>\n",
       "<style scoped>\n",
       "    .dataframe tbody tr th:only-of-type {\n",
       "        vertical-align: middle;\n",
       "    }\n",
       "\n",
       "    .dataframe tbody tr th {\n",
       "        vertical-align: top;\n",
       "    }\n",
       "\n",
       "    .dataframe thead th {\n",
       "        text-align: right;\n",
       "    }\n",
       "</style>\n",
       "<table border=\"1\" class=\"dataframe\">\n",
       "  <thead>\n",
       "    <tr style=\"text-align: right;\">\n",
       "      <th></th>\n",
       "      <th>id_code</th>\n",
       "      <th>species</th>\n",
       "      <th>island</th>\n",
       "      <th>bill_length_mm</th>\n",
       "      <th>bill_depth_mm</th>\n",
       "      <th>flipper_length_mm</th>\n",
       "      <th>body_mass_g</th>\n",
       "      <th>sex</th>\n",
       "      <th>year</th>\n",
       "      <th>body_mass_kg</th>\n",
       "      <th>flipper_length_cm</th>\n",
       "      <th>observer</th>\n",
       "    </tr>\n",
       "  </thead>\n",
       "  <tbody>\n",
       "    <tr>\n",
       "      <th>0</th>\n",
       "      <td>754</td>\n",
       "      <td>Adelie</td>\n",
       "      <td>Torgersen</td>\n",
       "      <td>39.1</td>\n",
       "      <td>18.7</td>\n",
       "      <td>181.0</td>\n",
       "      <td>3750.0</td>\n",
       "      <td>male</td>\n",
       "      <td>2007</td>\n",
       "      <td>3.75</td>\n",
       "      <td>18.1</td>\n",
       "      <td>C</td>\n",
       "    </tr>\n",
       "    <tr>\n",
       "      <th>1</th>\n",
       "      <td>214</td>\n",
       "      <td>Adelie</td>\n",
       "      <td>Torgersen</td>\n",
       "      <td>39.5</td>\n",
       "      <td>17.4</td>\n",
       "      <td>186.0</td>\n",
       "      <td>3800.0</td>\n",
       "      <td>female</td>\n",
       "      <td>2007</td>\n",
       "      <td>3.80</td>\n",
       "      <td>18.6</td>\n",
       "      <td>A</td>\n",
       "    </tr>\n",
       "    <tr>\n",
       "      <th>2</th>\n",
       "      <td>125</td>\n",
       "      <td>Adelie</td>\n",
       "      <td>Torgersen</td>\n",
       "      <td>40.3</td>\n",
       "      <td>18.0</td>\n",
       "      <td>195.0</td>\n",
       "      <td>3250.0</td>\n",
       "      <td>female</td>\n",
       "      <td>2007</td>\n",
       "      <td>3.25</td>\n",
       "      <td>19.5</td>\n",
       "      <td>C</td>\n",
       "    </tr>\n",
       "    <tr>\n",
       "      <th>3</th>\n",
       "      <td>859</td>\n",
       "      <td>Adelie</td>\n",
       "      <td>Torgersen</td>\n",
       "      <td>NaN</td>\n",
       "      <td>NaN</td>\n",
       "      <td>NaN</td>\n",
       "      <td>NaN</td>\n",
       "      <td>NaN</td>\n",
       "      <td>2007</td>\n",
       "      <td>NaN</td>\n",
       "      <td>NaN</td>\n",
       "      <td>A</td>\n",
       "    </tr>\n",
       "    <tr>\n",
       "      <th>4</th>\n",
       "      <td>381</td>\n",
       "      <td>Adelie</td>\n",
       "      <td>Torgersen</td>\n",
       "      <td>36.7</td>\n",
       "      <td>19.3</td>\n",
       "      <td>193.0</td>\n",
       "      <td>3450.0</td>\n",
       "      <td>female</td>\n",
       "      <td>2007</td>\n",
       "      <td>3.45</td>\n",
       "      <td>19.3</td>\n",
       "      <td>B</td>\n",
       "    </tr>\n",
       "  </tbody>\n",
       "</table>\n",
       "</div>"
      ],
      "text/plain": [
       "   id_code species     island  bill_length_mm  bill_depth_mm  \\\n",
       "0      754  Adelie  Torgersen            39.1           18.7   \n",
       "1      214  Adelie  Torgersen            39.5           17.4   \n",
       "2      125  Adelie  Torgersen            40.3           18.0   \n",
       "3      859  Adelie  Torgersen             NaN            NaN   \n",
       "4      381  Adelie  Torgersen            36.7           19.3   \n",
       "\n",
       "   flipper_length_mm  body_mass_g     sex  year  body_mass_kg  \\\n",
       "0              181.0       3750.0    male  2007          3.75   \n",
       "1              186.0       3800.0  female  2007          3.80   \n",
       "2              195.0       3250.0  female  2007          3.25   \n",
       "3                NaN          NaN     NaN  2007           NaN   \n",
       "4              193.0       3450.0  female  2007          3.45   \n",
       "\n",
       "   flipper_length_cm observer  \n",
       "0               18.1        C  \n",
       "1               18.6        A  \n",
       "2               19.5        C  \n",
       "3                NaN        A  \n",
       "4               19.3        B  "
      ]
     },
     "execution_count": 8,
     "metadata": {},
     "output_type": "execute_result"
    }
   ],
   "source": [
    "# Create columns with observer codes and flipper length in cm\n",
    "penguins = penguins.assign(flipper_length_cm=penguins['flipper_length_mm']/10,\n",
    "                          observer=random.choices(['A','B','C'], k=len(penguins)))\n",
    "\n",
    "# Examine the result\n",
    "penguins.head()"
   ]
  },
  {
   "cell_type": "markdown",
   "id": "0d41f180-70c3-42b7-b9db-69462849638d",
   "metadata": {
    "tags": []
   },
   "source": [
    "## Removing columns\n",
    "\n",
    "Remove columns using the `drop()` method:\n",
    "```\n",
    "df=df.drop(column=col_names)\n",
    "```\n",
    "`col_names` can be a single column name (string) or a list of column names (each a string)."
   ]
  },
  {
   "cell_type": "markdown",
   "id": "cbb5eb47-2960-4385-bf9c-5ff8b815c8f6",
   "metadata": {},
   "source": [
    "### Example"
   ]
  },
  {
   "cell_type": "code",
   "execution_count": 9,
   "id": "a57afc43-7ff5-4980-a86e-f5050b363215",
   "metadata": {
    "tags": []
   },
   "outputs": [
    {
     "name": "stdout",
     "output_type": "stream",
     "text": [
      "Index(['id_code', 'species', 'island', 'bill_length_mm', 'bill_depth_mm',\n",
      "       'sex', 'year', 'body_mass_kg', 'flipper_length_cm', 'observer'],\n",
      "      dtype='object')\n"
     ]
    }
   ],
   "source": [
    "# Remove duplicate length and mass measurements\n",
    "penguins = penguins.drop(columns=['flipper_length_mm','body_mass_g'])\n",
    "\n",
    "# Confirm result\n",
    "print(penguins.columns)"
   ]
  },
  {
   "cell_type": "markdown",
   "id": "2c052a5e-3e03-4f1a-9548-a6b1d241a236",
   "metadata": {},
   "source": [
    "## Updating values\n",
    "\n",
    "Sometimes we want to update specific values in our data frame.\n",
    "\n",
    "### A single value\n",
    "\n",
    "Access a single value in a `pd.DataFrame` using the locators:\n",
    "\n",
    "- `at[]` to select by labels,\n",
    "- `iat[]` to select by position\n",
    "\n",
    "The syntax for `at[]`:\n",
    "```\n",
    "df.at[single_value_index,'column_name']\n",
    "```\n",
    "\n",
    "Think of `at[]` as the equivalent of `loc[]` when we want to access a single value\n",
    "\n",
    "### Example\n",
    "First update the index of the dataframe to be the `id_column`"
   ]
  },
  {
   "cell_type": "code",
   "execution_count": 10,
   "id": "620b7c37-0220-4ad8-bb3b-28b1cfd8b76e",
   "metadata": {
    "tags": []
   },
   "outputs": [
    {
     "data": {
      "text/html": [
       "<div>\n",
       "<style scoped>\n",
       "    .dataframe tbody tr th:only-of-type {\n",
       "        vertical-align: middle;\n",
       "    }\n",
       "\n",
       "    .dataframe tbody tr th {\n",
       "        vertical-align: top;\n",
       "    }\n",
       "\n",
       "    .dataframe thead th {\n",
       "        text-align: right;\n",
       "    }\n",
       "</style>\n",
       "<table border=\"1\" class=\"dataframe\">\n",
       "  <thead>\n",
       "    <tr style=\"text-align: right;\">\n",
       "      <th></th>\n",
       "      <th>species</th>\n",
       "      <th>island</th>\n",
       "      <th>bill_length_mm</th>\n",
       "      <th>bill_depth_mm</th>\n",
       "      <th>sex</th>\n",
       "      <th>year</th>\n",
       "      <th>body_mass_kg</th>\n",
       "      <th>flipper_length_cm</th>\n",
       "      <th>observer</th>\n",
       "    </tr>\n",
       "    <tr>\n",
       "      <th>id_code</th>\n",
       "      <th></th>\n",
       "      <th></th>\n",
       "      <th></th>\n",
       "      <th></th>\n",
       "      <th></th>\n",
       "      <th></th>\n",
       "      <th></th>\n",
       "      <th></th>\n",
       "      <th></th>\n",
       "    </tr>\n",
       "  </thead>\n",
       "  <tbody>\n",
       "    <tr>\n",
       "      <th>754</th>\n",
       "      <td>Adelie</td>\n",
       "      <td>Torgersen</td>\n",
       "      <td>39.1</td>\n",
       "      <td>18.7</td>\n",
       "      <td>male</td>\n",
       "      <td>2007</td>\n",
       "      <td>3.75</td>\n",
       "      <td>18.1</td>\n",
       "      <td>C</td>\n",
       "    </tr>\n",
       "    <tr>\n",
       "      <th>214</th>\n",
       "      <td>Adelie</td>\n",
       "      <td>Torgersen</td>\n",
       "      <td>39.5</td>\n",
       "      <td>17.4</td>\n",
       "      <td>female</td>\n",
       "      <td>2007</td>\n",
       "      <td>3.80</td>\n",
       "      <td>18.6</td>\n",
       "      <td>A</td>\n",
       "    </tr>\n",
       "    <tr>\n",
       "      <th>125</th>\n",
       "      <td>Adelie</td>\n",
       "      <td>Torgersen</td>\n",
       "      <td>40.3</td>\n",
       "      <td>18.0</td>\n",
       "      <td>female</td>\n",
       "      <td>2007</td>\n",
       "      <td>3.25</td>\n",
       "      <td>19.5</td>\n",
       "      <td>C</td>\n",
       "    </tr>\n",
       "    <tr>\n",
       "      <th>859</th>\n",
       "      <td>Adelie</td>\n",
       "      <td>Torgersen</td>\n",
       "      <td>NaN</td>\n",
       "      <td>NaN</td>\n",
       "      <td>NaN</td>\n",
       "      <td>2007</td>\n",
       "      <td>NaN</td>\n",
       "      <td>NaN</td>\n",
       "      <td>A</td>\n",
       "    </tr>\n",
       "    <tr>\n",
       "      <th>381</th>\n",
       "      <td>Adelie</td>\n",
       "      <td>Torgersen</td>\n",
       "      <td>36.7</td>\n",
       "      <td>19.3</td>\n",
       "      <td>female</td>\n",
       "      <td>2007</td>\n",
       "      <td>3.45</td>\n",
       "      <td>19.3</td>\n",
       "      <td>B</td>\n",
       "    </tr>\n",
       "  </tbody>\n",
       "</table>\n",
       "</div>"
      ],
      "text/plain": [
       "        species     island  bill_length_mm  bill_depth_mm     sex  year  \\\n",
       "id_code                                                                   \n",
       "754      Adelie  Torgersen            39.1           18.7    male  2007   \n",
       "214      Adelie  Torgersen            39.5           17.4  female  2007   \n",
       "125      Adelie  Torgersen            40.3           18.0  female  2007   \n",
       "859      Adelie  Torgersen             NaN            NaN     NaN  2007   \n",
       "381      Adelie  Torgersen            36.7           19.3  female  2007   \n",
       "\n",
       "         body_mass_kg  flipper_length_cm observer  \n",
       "id_code                                            \n",
       "754              3.75               18.1        C  \n",
       "214              3.80               18.6        A  \n",
       "125              3.25               19.5        C  \n",
       "859               NaN                NaN        A  \n",
       "381              3.45               19.3        B  "
      ]
     },
     "execution_count": 10,
     "metadata": {},
     "output_type": "execute_result"
    }
   ],
   "source": [
    "penguins=penguins.set_index('id_code')\n",
    "penguins.head()"
   ]
  },
  {
   "cell_type": "markdown",
   "id": "11ed5d93-238b-428d-b476-34862a8e8dbe",
   "metadata": {},
   "source": [
    "What was the bill length of the penguin with ID number 127?"
   ]
  },
  {
   "cell_type": "code",
   "execution_count": 11,
   "id": "3300bac1-8a74-4a9b-b1d0-746b1db87c32",
   "metadata": {
    "tags": []
   },
   "outputs": [
    {
     "data": {
      "text/plain": [
       "38.2"
      ]
     },
     "execution_count": 11,
     "metadata": {},
     "output_type": "execute_result"
    }
   ],
   "source": [
    "# Check bill length of penguin with ID 127\n",
    "penguins.at[127, 'bill_length_mm']"
   ]
  },
  {
   "cell_type": "markdown",
   "id": "96feec93-b49c-40ba-9b76-2d7416d7a8e5",
   "metadata": {},
   "source": [
    "Update this value to 38.3 mm. We can also do this with `at[]`"
   ]
  },
  {
   "cell_type": "code",
   "execution_count": 12,
   "id": "bb33dd39-20c8-4514-8391-807cf677e6ae",
   "metadata": {
    "tags": []
   },
   "outputs": [
    {
     "data": {
      "text/plain": [
       "species              Adelie\n",
       "island               Biscoe\n",
       "bill_length_mm         38.3\n",
       "bill_depth_mm          18.1\n",
       "sex                    male\n",
       "year                   2007\n",
       "body_mass_kg           3.95\n",
       "flipper_length_cm      18.5\n",
       "observer                  B\n",
       "Name: 127, dtype: object"
      ]
     },
     "execution_count": 12,
     "metadata": {},
     "output_type": "execute_result"
    }
   ],
   "source": [
    "# Correct bill length value for penguin with ID 127\n",
    "penguins.at[127, 'bill_length_mm'] = 38.3\n",
    "\n",
    "# Confirm that the value was updated\n",
    "penguins.loc[127]"
   ]
  },
  {
   "cell_type": "markdown",
   "id": "17014bde-b04b-410a-a227-c2829b9396dd",
   "metadata": {},
   "source": [
    "If we want to access or update a single value by position, we use `iat[]` locator:\n",
    "\n",
    "```\n",
    "df.iat[index_integer_location,column_integer_location]\n",
    "```\n",
    "\n",
    "We can dynamically get the location of a single column this way:\n",
    "```\n",
    "df.columns.get_loc('column_name')\n",
    "```\n",
    "\n",
    "## Check-in\n",
    "a. obtain the location of the 'bill_length_mm' column\n",
    "b. use the `iat[]` to access the same bill length value for your penguin and revert it back to NA value. Confirm your update using `iloc[]`"
   ]
  },
  {
   "cell_type": "code",
   "execution_count": 13,
   "id": "aceb47a4-b404-455a-b273-d2670c799895",
   "metadata": {
    "tags": []
   },
   "outputs": [],
   "source": [
    "# Revert to NA using iat\n",
    "bill_length_index = penguins.columns.get_loc('bill_length_mm')"
   ]
  },
  {
   "cell_type": "code",
   "execution_count": 14,
   "id": "c6449e05-9069-4284-9a6e-02a9f7a03906",
   "metadata": {
    "tags": []
   },
   "outputs": [],
   "source": [
    "penguins.iat[3,bill_length_index] = np.nan"
   ]
  },
  {
   "cell_type": "code",
   "execution_count": 15,
   "id": "4bb17ba1-5c7c-4206-bbe5-dbfda74cb1a8",
   "metadata": {
    "tags": []
   },
   "outputs": [
    {
     "data": {
      "text/plain": [
       "species                 Adelie\n",
       "island               Torgersen\n",
       "bill_length_mm             NaN\n",
       "bill_depth_mm              NaN\n",
       "sex                        NaN\n",
       "year                      2007\n",
       "body_mass_kg               NaN\n",
       "flipper_length_cm          NaN\n",
       "observer                     A\n",
       "Name: 859, dtype: object"
      ]
     },
     "execution_count": 15,
     "metadata": {},
     "output_type": "execute_result"
    }
   ],
   "source": [
    "penguins.iloc[3]"
   ]
  },
  {
   "cell_type": "markdown",
   "id": "8bcc3941-46e6-4fa4-9ef1-d97e0282b9ec",
   "metadata": {},
   "source": [
    "## Update multiple values in a column\n",
    "\n",
    "What if we want to update multiple values in a column?\n",
    "\n",
    "### Using a condition\n",
    "\n",
    "When we need to create a new column where the new values depend on conditions on another column\n",
    "\n",
    "#### Example\n",
    "\n",
    "We want to classify the penguins such that\n",
    "\n",
    "- penguins with body mass < 3 kg are small\n",
    "- penguins with 3 kg <= body mass < 5 kg are medium\n",
    "- penguins with 5 kg <= body mass are large\n",
    "\n",
    "We can add this info to a new column with `numpy.select()` function:"
   ]
  },
  {
   "cell_type": "code",
   "execution_count": 16,
   "id": "203ee3dc-b750-4b4e-aa77-514aa743175c",
   "metadata": {
    "tags": []
   },
   "outputs": [
    {
     "data": {
      "text/html": [
       "<div>\n",
       "<style scoped>\n",
       "    .dataframe tbody tr th:only-of-type {\n",
       "        vertical-align: middle;\n",
       "    }\n",
       "\n",
       "    .dataframe tbody tr th {\n",
       "        vertical-align: top;\n",
       "    }\n",
       "\n",
       "    .dataframe thead th {\n",
       "        text-align: right;\n",
       "    }\n",
       "</style>\n",
       "<table border=\"1\" class=\"dataframe\">\n",
       "  <thead>\n",
       "    <tr style=\"text-align: right;\">\n",
       "      <th></th>\n",
       "      <th>species</th>\n",
       "      <th>island</th>\n",
       "      <th>bill_length_mm</th>\n",
       "      <th>bill_depth_mm</th>\n",
       "      <th>sex</th>\n",
       "      <th>year</th>\n",
       "      <th>body_mass_kg</th>\n",
       "      <th>flipper_length_cm</th>\n",
       "      <th>observer</th>\n",
       "      <th>size</th>\n",
       "    </tr>\n",
       "    <tr>\n",
       "      <th>id_code</th>\n",
       "      <th></th>\n",
       "      <th></th>\n",
       "      <th></th>\n",
       "      <th></th>\n",
       "      <th></th>\n",
       "      <th></th>\n",
       "      <th></th>\n",
       "      <th></th>\n",
       "      <th></th>\n",
       "      <th></th>\n",
       "    </tr>\n",
       "  </thead>\n",
       "  <tbody>\n",
       "    <tr>\n",
       "      <th>754</th>\n",
       "      <td>Adelie</td>\n",
       "      <td>Torgersen</td>\n",
       "      <td>39.1</td>\n",
       "      <td>18.7</td>\n",
       "      <td>male</td>\n",
       "      <td>2007</td>\n",
       "      <td>3.75</td>\n",
       "      <td>18.1</td>\n",
       "      <td>C</td>\n",
       "      <td>medium</td>\n",
       "    </tr>\n",
       "    <tr>\n",
       "      <th>214</th>\n",
       "      <td>Adelie</td>\n",
       "      <td>Torgersen</td>\n",
       "      <td>39.5</td>\n",
       "      <td>17.4</td>\n",
       "      <td>female</td>\n",
       "      <td>2007</td>\n",
       "      <td>3.80</td>\n",
       "      <td>18.6</td>\n",
       "      <td>A</td>\n",
       "      <td>medium</td>\n",
       "    </tr>\n",
       "    <tr>\n",
       "      <th>125</th>\n",
       "      <td>Adelie</td>\n",
       "      <td>Torgersen</td>\n",
       "      <td>40.3</td>\n",
       "      <td>18.0</td>\n",
       "      <td>female</td>\n",
       "      <td>2007</td>\n",
       "      <td>3.25</td>\n",
       "      <td>19.5</td>\n",
       "      <td>C</td>\n",
       "      <td>medium</td>\n",
       "    </tr>\n",
       "    <tr>\n",
       "      <th>859</th>\n",
       "      <td>Adelie</td>\n",
       "      <td>Torgersen</td>\n",
       "      <td>NaN</td>\n",
       "      <td>NaN</td>\n",
       "      <td>NaN</td>\n",
       "      <td>2007</td>\n",
       "      <td>NaN</td>\n",
       "      <td>NaN</td>\n",
       "      <td>A</td>\n",
       "      <td>nan</td>\n",
       "    </tr>\n",
       "    <tr>\n",
       "      <th>381</th>\n",
       "      <td>Adelie</td>\n",
       "      <td>Torgersen</td>\n",
       "      <td>36.7</td>\n",
       "      <td>19.3</td>\n",
       "      <td>female</td>\n",
       "      <td>2007</td>\n",
       "      <td>3.45</td>\n",
       "      <td>19.3</td>\n",
       "      <td>B</td>\n",
       "      <td>medium</td>\n",
       "    </tr>\n",
       "  </tbody>\n",
       "</table>\n",
       "</div>"
      ],
      "text/plain": [
       "        species     island  bill_length_mm  bill_depth_mm     sex  year  \\\n",
       "id_code                                                                   \n",
       "754      Adelie  Torgersen            39.1           18.7    male  2007   \n",
       "214      Adelie  Torgersen            39.5           17.4  female  2007   \n",
       "125      Adelie  Torgersen            40.3           18.0  female  2007   \n",
       "859      Adelie  Torgersen             NaN            NaN     NaN  2007   \n",
       "381      Adelie  Torgersen            36.7           19.3  female  2007   \n",
       "\n",
       "         body_mass_kg  flipper_length_cm observer    size  \n",
       "id_code                                                    \n",
       "754              3.75               18.1        C  medium  \n",
       "214              3.80               18.6        A  medium  \n",
       "125              3.25               19.5        C  medium  \n",
       "859               NaN                NaN        A     nan  \n",
       "381              3.45               19.3        B  medium  "
      ]
     },
     "execution_count": 16,
     "metadata": {},
     "output_type": "execute_result"
    }
   ],
   "source": [
    "# Create a list with the conditions\n",
    "conditions = [penguins.body_mass_kg < 3,\n",
    "             (3 <= penguins.body_mass_kg) & (penguins.body_mass_kg < 5),\n",
    "             5 <= penguins.body_mass_kg]\n",
    "\n",
    "# Create a list with the choices\n",
    "choices = ['small','medium','large']\n",
    "\n",
    "# Add the selections using np.select\n",
    "penguins['size'] = np.select(conditions,\n",
    "                            choices,\n",
    "                            default=np.nan) # value for anything outside conditions\n",
    "\n",
    "# Display the updated data frame to confirm the new columns\n",
    "penguins.head()"
   ]
  },
  {
   "cell_type": "markdown",
   "id": "77ff9ce1-1fb2-4173-9f94-ae152cab9bbf",
   "metadata": {},
   "source": [
    "## By selecting values and then updating\n",
    "\n",
    "We can update some values in a column by selecting this data using `loc` (if selecting by labels) or `iloc` (if selecting by position). The general syntax for updating `loc` is:\n",
    "```\n",
    "df.loc[row_selection, column_name] = new_values\n",
    "```\n",
    "\n",
    "where:\n",
    "- `row_selection`: the rows we want to update, any expression that gives us a boolean `pandas.Series`\n",
    "- `col_name`: a single column name\n",
    "- `new_values`: the new value or values we want. If using multiple values, then `new_values` must be of the same length as the number of rows selected\n",
    "\n",
    "Using `loc[]` in assignment modifies data frame directly without need for reassignment\n",
    "\n",
    "### Example\n",
    "\n",
    "Update the 'male' vaulues in the sex column to 'M'"
   ]
  },
  {
   "cell_type": "code",
   "execution_count": 17,
   "id": "e852ea81-e607-4ac9-9537-2e9f94704655",
   "metadata": {
    "tags": []
   },
   "outputs": [
    {
     "name": "stdout",
     "output_type": "stream",
     "text": [
      "['M' 'female' nan]\n"
     ]
    }
   ],
   "source": [
    "# Select rows with sex=male and simplify values in 'sex' column\n",
    "penguins.loc[penguins.sex=='male','sex'] = 'M'\n",
    "\n",
    "# Check changes in the 'sex' column specifically\n",
    "print(penguins.sex.unique())"
   ]
  },
  {
   "cell_type": "markdown",
   "id": "fe34048c-28a8-4298-bd21-980c67cfef3e",
   "metadata": {},
   "source": [
    "### Best practices\n",
    "\n",
    "We want to similarly update the 'female' values in the sex column to 'F'. We might try to do it this way:"
   ]
  },
  {
   "cell_type": "code",
   "execution_count": 18,
   "id": "d7696d2f-4d3e-4d19-b30b-b7aa842a6604",
   "metadata": {
    "tags": []
   },
   "outputs": [
    {
     "name": "stderr",
     "output_type": "stream",
     "text": [
      "/tmp/ipykernel_1707538/1797105464.py:2: SettingWithCopyWarning: \n",
      "A value is trying to be set on a copy of a slice from a DataFrame.\n",
      "Try using .loc[row_indexer,col_indexer] = value instead\n",
      "\n",
      "See the caveats in the documentation: https://pandas.pydata.org/pandas-docs/stable/user_guide/indexing.html#returning-a-view-versus-a-copy\n",
      "  penguins[penguins.sex=='female']['sex'] = 'F'\n"
     ]
    }
   ],
   "source": [
    "# Select rows where 'sex' is 'female' and attempt to update values\n",
    "penguins[penguins.sex=='female']['sex'] = 'F'"
   ]
  },
  {
   "cell_type": "markdown",
   "id": "42ed7ed4-19f1-4bd3-9c09-ee5a4b8dc697",
   "metadata": {},
   "source": [
    "The use of double brackets `[][]` is called **chained indexing**.\n",
    "\n",
    "When we select the data we want to update using chained indexing instead of `loc[]` we get a `SettingWithCopyWarning`\n",
    "\n",
    "The bug that this warning is trying to tell us about is that we did not update our data frame:"
   ]
  },
  {
   "cell_type": "code",
   "execution_count": 19,
   "id": "d02c93ce-1a99-429b-a735-6732d98ae158",
   "metadata": {
    "tags": []
   },
   "outputs": [
    {
     "data": {
      "text/plain": [
       "array(['M', 'female', nan], dtype=object)"
      ]
     },
     "execution_count": 19,
     "metadata": {},
     "output_type": "execute_result"
    }
   ],
   "source": [
    "penguins['sex'].unique()"
   ]
  },
  {
   "cell_type": "markdown",
   "id": "21dda635-f7a6-4771-a487-31967784ed89",
   "metadata": {},
   "source": [
    "**Avoid chained `[][]` indexing and use .loc[] instead**\n",
    "\n",
    "This warning often arises from chained indexing"
   ]
  },
  {
   "cell_type": "code",
   "execution_count": 20,
   "id": "e3ebcb21-c461-41d4-88d2-e324dc836b22",
   "metadata": {
    "tags": []
   },
   "outputs": [
    {
     "data": {
      "text/plain": [
       "array(['M', 'F', nan], dtype=object)"
      ]
     },
     "execution_count": 20,
     "metadata": {},
     "output_type": "execute_result"
    }
   ],
   "source": [
    "# no chained indexing \n",
    "penguins.loc[penguins.sex == 'female', 'sex'] = 'F'\n",
    "\n",
    "penguins['sex'].unique()"
   ]
  },
  {
   "cell_type": "code",
   "execution_count": 21,
   "id": "9ee74d92-5ebf-4d7c-b462-8fce35b9c398",
   "metadata": {
    "tags": []
   },
   "outputs": [
    {
     "data": {
      "text/html": [
       "<div>\n",
       "<style scoped>\n",
       "    .dataframe tbody tr th:only-of-type {\n",
       "        vertical-align: middle;\n",
       "    }\n",
       "\n",
       "    .dataframe tbody tr th {\n",
       "        vertical-align: top;\n",
       "    }\n",
       "\n",
       "    .dataframe thead th {\n",
       "        text-align: right;\n",
       "    }\n",
       "</style>\n",
       "<table border=\"1\" class=\"dataframe\">\n",
       "  <thead>\n",
       "    <tr style=\"text-align: right;\">\n",
       "      <th></th>\n",
       "      <th>species</th>\n",
       "      <th>island</th>\n",
       "      <th>bill_length_mm</th>\n",
       "      <th>bill_depth_mm</th>\n",
       "      <th>sex</th>\n",
       "      <th>year</th>\n",
       "      <th>body_mass_kg</th>\n",
       "      <th>flipper_length_cm</th>\n",
       "      <th>observer</th>\n",
       "      <th>size</th>\n",
       "    </tr>\n",
       "    <tr>\n",
       "      <th>id_code</th>\n",
       "      <th></th>\n",
       "      <th></th>\n",
       "      <th></th>\n",
       "      <th></th>\n",
       "      <th></th>\n",
       "      <th></th>\n",
       "      <th></th>\n",
       "      <th></th>\n",
       "      <th></th>\n",
       "      <th></th>\n",
       "    </tr>\n",
       "  </thead>\n",
       "  <tbody>\n",
       "    <tr>\n",
       "      <th>754</th>\n",
       "      <td>Adelie</td>\n",
       "      <td>Torgersen</td>\n",
       "      <td>39.1</td>\n",
       "      <td>18.7</td>\n",
       "      <td>M</td>\n",
       "      <td>2007</td>\n",
       "      <td>3.750</td>\n",
       "      <td>18.1</td>\n",
       "      <td>C</td>\n",
       "      <td>medium</td>\n",
       "    </tr>\n",
       "    <tr>\n",
       "      <th>214</th>\n",
       "      <td>Adelie</td>\n",
       "      <td>Torgersen</td>\n",
       "      <td>39.5</td>\n",
       "      <td>17.4</td>\n",
       "      <td>F</td>\n",
       "      <td>2007</td>\n",
       "      <td>3.800</td>\n",
       "      <td>18.6</td>\n",
       "      <td>A</td>\n",
       "      <td>medium</td>\n",
       "    </tr>\n",
       "    <tr>\n",
       "      <th>125</th>\n",
       "      <td>Adelie</td>\n",
       "      <td>Torgersen</td>\n",
       "      <td>40.3</td>\n",
       "      <td>18.0</td>\n",
       "      <td>F</td>\n",
       "      <td>2007</td>\n",
       "      <td>3.250</td>\n",
       "      <td>19.5</td>\n",
       "      <td>C</td>\n",
       "      <td>medium</td>\n",
       "    </tr>\n",
       "    <tr>\n",
       "      <th>859</th>\n",
       "      <td>Adelie</td>\n",
       "      <td>Torgersen</td>\n",
       "      <td>NaN</td>\n",
       "      <td>NaN</td>\n",
       "      <td>NaN</td>\n",
       "      <td>2007</td>\n",
       "      <td>NaN</td>\n",
       "      <td>NaN</td>\n",
       "      <td>A</td>\n",
       "      <td>nan</td>\n",
       "    </tr>\n",
       "    <tr>\n",
       "      <th>381</th>\n",
       "      <td>Adelie</td>\n",
       "      <td>Torgersen</td>\n",
       "      <td>36.7</td>\n",
       "      <td>19.3</td>\n",
       "      <td>F</td>\n",
       "      <td>2007</td>\n",
       "      <td>3.450</td>\n",
       "      <td>19.3</td>\n",
       "      <td>B</td>\n",
       "      <td>medium</td>\n",
       "    </tr>\n",
       "    <tr>\n",
       "      <th>...</th>\n",
       "      <td>...</td>\n",
       "      <td>...</td>\n",
       "      <td>...</td>\n",
       "      <td>...</td>\n",
       "      <td>...</td>\n",
       "      <td>...</td>\n",
       "      <td>...</td>\n",
       "      <td>...</td>\n",
       "      <td>...</td>\n",
       "      <td>...</td>\n",
       "    </tr>\n",
       "    <tr>\n",
       "      <th>140</th>\n",
       "      <td>Chinstrap</td>\n",
       "      <td>Dream</td>\n",
       "      <td>55.8</td>\n",
       "      <td>19.8</td>\n",
       "      <td>M</td>\n",
       "      <td>2009</td>\n",
       "      <td>4.000</td>\n",
       "      <td>20.7</td>\n",
       "      <td>C</td>\n",
       "      <td>medium</td>\n",
       "    </tr>\n",
       "    <tr>\n",
       "      <th>183</th>\n",
       "      <td>Chinstrap</td>\n",
       "      <td>Dream</td>\n",
       "      <td>43.5</td>\n",
       "      <td>18.1</td>\n",
       "      <td>F</td>\n",
       "      <td>2009</td>\n",
       "      <td>3.400</td>\n",
       "      <td>20.2</td>\n",
       "      <td>A</td>\n",
       "      <td>medium</td>\n",
       "    </tr>\n",
       "    <tr>\n",
       "      <th>969</th>\n",
       "      <td>Chinstrap</td>\n",
       "      <td>Dream</td>\n",
       "      <td>49.6</td>\n",
       "      <td>18.2</td>\n",
       "      <td>M</td>\n",
       "      <td>2009</td>\n",
       "      <td>3.775</td>\n",
       "      <td>19.3</td>\n",
       "      <td>C</td>\n",
       "      <td>medium</td>\n",
       "    </tr>\n",
       "    <tr>\n",
       "      <th>635</th>\n",
       "      <td>Chinstrap</td>\n",
       "      <td>Dream</td>\n",
       "      <td>50.8</td>\n",
       "      <td>19.0</td>\n",
       "      <td>M</td>\n",
       "      <td>2009</td>\n",
       "      <td>4.100</td>\n",
       "      <td>21.0</td>\n",
       "      <td>A</td>\n",
       "      <td>medium</td>\n",
       "    </tr>\n",
       "    <tr>\n",
       "      <th>883</th>\n",
       "      <td>Chinstrap</td>\n",
       "      <td>Dream</td>\n",
       "      <td>50.2</td>\n",
       "      <td>18.7</td>\n",
       "      <td>F</td>\n",
       "      <td>2009</td>\n",
       "      <td>3.775</td>\n",
       "      <td>19.8</td>\n",
       "      <td>B</td>\n",
       "      <td>medium</td>\n",
       "    </tr>\n",
       "  </tbody>\n",
       "</table>\n",
       "<p>344 rows × 10 columns</p>\n",
       "</div>"
      ],
      "text/plain": [
       "           species     island  bill_length_mm  bill_depth_mm  sex  year  \\\n",
       "id_code                                                                   \n",
       "754         Adelie  Torgersen            39.1           18.7    M  2007   \n",
       "214         Adelie  Torgersen            39.5           17.4    F  2007   \n",
       "125         Adelie  Torgersen            40.3           18.0    F  2007   \n",
       "859         Adelie  Torgersen             NaN            NaN  NaN  2007   \n",
       "381         Adelie  Torgersen            36.7           19.3    F  2007   \n",
       "...            ...        ...             ...            ...  ...   ...   \n",
       "140      Chinstrap      Dream            55.8           19.8    M  2009   \n",
       "183      Chinstrap      Dream            43.5           18.1    F  2009   \n",
       "969      Chinstrap      Dream            49.6           18.2    M  2009   \n",
       "635      Chinstrap      Dream            50.8           19.0    M  2009   \n",
       "883      Chinstrap      Dream            50.2           18.7    F  2009   \n",
       "\n",
       "         body_mass_kg  flipper_length_cm observer    size  \n",
       "id_code                                                    \n",
       "754             3.750               18.1        C  medium  \n",
       "214             3.800               18.6        A  medium  \n",
       "125             3.250               19.5        C  medium  \n",
       "859               NaN                NaN        A     nan  \n",
       "381             3.450               19.3        B  medium  \n",
       "...               ...                ...      ...     ...  \n",
       "140             4.000               20.7        C  medium  \n",
       "183             3.400               20.2        A  medium  \n",
       "969             3.775               19.3        C  medium  \n",
       "635             4.100               21.0        A  medium  \n",
       "883             3.775               19.8        B  medium  \n",
       "\n",
       "[344 rows x 10 columns]"
      ]
     },
     "execution_count": 21,
     "metadata": {},
     "output_type": "execute_result"
    }
   ],
   "source": [
    "penguins"
   ]
  },
  {
   "cell_type": "markdown",
   "id": "18b5f528-afb2-4dc2-b237-e87377d85792",
   "metadata": {},
   "source": [
    "The `SettingWithCopyWarning` comes up because some `pandas` opertions return a view to your data, while others return a copy to your data:\n",
    "- **Views** are actual subsets of the original data, when we update them, we update the original data frame\n",
    "- **Copies** are unique objects, independent from our original data frames. When we update a copy we are not modifying the original data frame."
   ]
  },
  {
   "cell_type": "markdown",
   "id": "01cbc3a7-a1d0-4762-9636-ba9fa80abb1c",
   "metadata": {},
   "source": [
    "#### Example\n",
    "\n",
    "We only want to use data from Biscoe island, and after doing some analysis we want to add a new column to it:"
   ]
  },
  {
   "cell_type": "code",
   "execution_count": 23,
   "id": "6eb5ec04-d049-45f4-a5e2-87596d5e1b72",
   "metadata": {
    "tags": []
   },
   "outputs": [
    {
     "name": "stderr",
     "output_type": "stream",
     "text": [
      "/tmp/ipykernel_1707538/3597735390.py:7: SettingWithCopyWarning: \n",
      "A value is trying to be set on a copy of a slice from a DataFrame.\n",
      "Try using .loc[row_indexer,col_indexer] = value instead\n",
      "\n",
      "See the caveats in the documentation: https://pandas.pydata.org/pandas-docs/stable/user_guide/indexing.html#returning-a-view-versus-a-copy\n",
      "  biscoe['sample_column'] = 100 # This raises SettingWithCopyWarning\n"
     ]
    }
   ],
   "source": [
    "# Select penguins from Biscoe island\n",
    "biscoe = penguins[penguins.island=='Biscoe']\n",
    "\n",
    "# add other analyses\n",
    "\n",
    "# Add a column\n",
    "biscoe['sample_column'] = 100 # This raises SettingWithCopyWarning"
   ]
  },
  {
   "cell_type": "markdown",
   "id": "1f7e5a45-e397-42e4-a051-e57d37969f4b",
   "metadata": {},
   "source": [
    "To fix this we can **take control** of the copy-view situation and explicitly ask for a copy of the dataset when subsetting the data. Use `copy()` method to do this:"
   ]
  },
  {
   "cell_type": "code",
   "execution_count": 24,
   "id": "3c5581c0-65f0-4c74-9cd9-1bc4f96b73af",
   "metadata": {
    "tags": []
   },
   "outputs": [],
   "source": [
    "# Select penguins from Biscoe island\n",
    "biscoe = penguins[penguins.island=='Biscoe'].copy()\n",
    "\n",
    "# Add a column\n",
    "biscoe['sample_column'] = 100 # This raises SettingWithCopyWarning"
   ]
  },
  {
   "cell_type": "code",
   "execution_count": 26,
   "id": "ded759a5-dde1-4081-8d29-ed1b131aa3b4",
   "metadata": {
    "tags": []
   },
   "outputs": [
    {
     "data": {
      "text/html": [
       "<div>\n",
       "<style scoped>\n",
       "    .dataframe tbody tr th:only-of-type {\n",
       "        vertical-align: middle;\n",
       "    }\n",
       "\n",
       "    .dataframe tbody tr th {\n",
       "        vertical-align: top;\n",
       "    }\n",
       "\n",
       "    .dataframe thead th {\n",
       "        text-align: right;\n",
       "    }\n",
       "</style>\n",
       "<table border=\"1\" class=\"dataframe\">\n",
       "  <thead>\n",
       "    <tr style=\"text-align: right;\">\n",
       "      <th></th>\n",
       "      <th>species</th>\n",
       "      <th>island</th>\n",
       "      <th>bill_length_mm</th>\n",
       "      <th>bill_depth_mm</th>\n",
       "      <th>sex</th>\n",
       "      <th>year</th>\n",
       "      <th>body_mass_kg</th>\n",
       "      <th>flipper_length_cm</th>\n",
       "      <th>observer</th>\n",
       "      <th>size</th>\n",
       "      <th>sample_column</th>\n",
       "    </tr>\n",
       "    <tr>\n",
       "      <th>id_code</th>\n",
       "      <th></th>\n",
       "      <th></th>\n",
       "      <th></th>\n",
       "      <th></th>\n",
       "      <th></th>\n",
       "      <th></th>\n",
       "      <th></th>\n",
       "      <th></th>\n",
       "      <th></th>\n",
       "      <th></th>\n",
       "      <th></th>\n",
       "    </tr>\n",
       "  </thead>\n",
       "  <tbody>\n",
       "    <tr>\n",
       "      <th>338</th>\n",
       "      <td>Adelie</td>\n",
       "      <td>Biscoe</td>\n",
       "      <td>37.8</td>\n",
       "      <td>18.3</td>\n",
       "      <td>F</td>\n",
       "      <td>2007</td>\n",
       "      <td>3.40</td>\n",
       "      <td>17.4</td>\n",
       "      <td>A</td>\n",
       "      <td>medium</td>\n",
       "      <td>100</td>\n",
       "    </tr>\n",
       "    <tr>\n",
       "      <th>617</th>\n",
       "      <td>Adelie</td>\n",
       "      <td>Biscoe</td>\n",
       "      <td>37.7</td>\n",
       "      <td>18.7</td>\n",
       "      <td>M</td>\n",
       "      <td>2007</td>\n",
       "      <td>3.60</td>\n",
       "      <td>18.0</td>\n",
       "      <td>C</td>\n",
       "      <td>medium</td>\n",
       "      <td>100</td>\n",
       "    </tr>\n",
       "    <tr>\n",
       "      <th>716</th>\n",
       "      <td>Adelie</td>\n",
       "      <td>Biscoe</td>\n",
       "      <td>35.9</td>\n",
       "      <td>19.2</td>\n",
       "      <td>F</td>\n",
       "      <td>2007</td>\n",
       "      <td>3.80</td>\n",
       "      <td>18.9</td>\n",
       "      <td>C</td>\n",
       "      <td>medium</td>\n",
       "      <td>100</td>\n",
       "    </tr>\n",
       "    <tr>\n",
       "      <th>127</th>\n",
       "      <td>Adelie</td>\n",
       "      <td>Biscoe</td>\n",
       "      <td>38.3</td>\n",
       "      <td>18.1</td>\n",
       "      <td>M</td>\n",
       "      <td>2007</td>\n",
       "      <td>3.95</td>\n",
       "      <td>18.5</td>\n",
       "      <td>B</td>\n",
       "      <td>medium</td>\n",
       "      <td>100</td>\n",
       "    </tr>\n",
       "    <tr>\n",
       "      <th>674</th>\n",
       "      <td>Adelie</td>\n",
       "      <td>Biscoe</td>\n",
       "      <td>38.8</td>\n",
       "      <td>17.2</td>\n",
       "      <td>M</td>\n",
       "      <td>2007</td>\n",
       "      <td>3.80</td>\n",
       "      <td>18.0</td>\n",
       "      <td>C</td>\n",
       "      <td>medium</td>\n",
       "      <td>100</td>\n",
       "    </tr>\n",
       "  </tbody>\n",
       "</table>\n",
       "</div>"
      ],
      "text/plain": [
       "        species  island  bill_length_mm  bill_depth_mm sex  year  \\\n",
       "id_code                                                            \n",
       "338      Adelie  Biscoe            37.8           18.3   F  2007   \n",
       "617      Adelie  Biscoe            37.7           18.7   M  2007   \n",
       "716      Adelie  Biscoe            35.9           19.2   F  2007   \n",
       "127      Adelie  Biscoe            38.3           18.1   M  2007   \n",
       "674      Adelie  Biscoe            38.8           17.2   M  2007   \n",
       "\n",
       "         body_mass_kg  flipper_length_cm observer    size  sample_column  \n",
       "id_code                                                                   \n",
       "338              3.40               17.4        A  medium            100  \n",
       "617              3.60               18.0        C  medium            100  \n",
       "716              3.80               18.9        C  medium            100  \n",
       "127              3.95               18.5        B  medium            100  \n",
       "674              3.80               18.0        C  medium            100  "
      ]
     },
     "execution_count": 26,
     "metadata": {},
     "output_type": "execute_result"
    }
   ],
   "source": [
    "biscoe.head()"
   ]
  },
  {
   "cell_type": "code",
   "execution_count": 28,
   "id": "d190221a-688a-4878-9196-7137efb8e9f9",
   "metadata": {
    "tags": []
   },
   "outputs": [
    {
     "name": "stdout",
     "output_type": "stream",
     "text": [
      "False\n"
     ]
    }
   ],
   "source": [
    "print('sample_column' in penguins.columns) # tells us that we did not modify our original data"
   ]
  },
  {
   "cell_type": "code",
   "execution_count": 32,
   "id": "e15bcb02-c95e-47e7-a0fe-a5fba1e7d11b",
   "metadata": {
    "tags": []
   },
   "outputs": [
    {
     "data": {
      "text/plain": [
       "species    year\n",
       "Gentoo     2007    6.300\n",
       "           2008    6.000\n",
       "           2009    6.000\n",
       "Chinstrap  2008    4.800\n",
       "Adelie     2009    4.775\n",
       "           2008    4.700\n",
       "           2007    4.675\n",
       "Chinstrap  2009    4.450\n",
       "           2007    4.400\n",
       "Name: max_body_mass, dtype: float64"
      ]
     },
     "execution_count": 32,
     "metadata": {},
     "output_type": "execute_result"
    }
   ],
   "source": [
    "# Average flipper length per species\n",
    "max_mass = (penguins.groupby([\"species\",\"year\"])\n",
    "                    .body_mass_kg\n",
    "                    .max()\n",
    "                    .rename('max_body_mass')\n",
    "                    .sort_values(ascending=False)\n",
    ")\n",
    "max_mass"
   ]
  },
  {
   "cell_type": "code",
   "execution_count": 34,
   "id": "722944fe-982f-43e4-8f77-ed673804b0ec",
   "metadata": {
    "tags": []
   },
   "outputs": [
    {
     "data": {
      "image/png": "[encoded data removed]",
      "text/plain": [
       "<Figure size 640x480 with 1 Axes>"
      ]
     },
     "metadata": {},
     "output_type": "display_data"
    }
   ],
   "source": [
    "max_mass = (penguins.groupby([\"species\",\"year\"])\n",
    "                    .body_mass_kg\n",
    "                    .max()\n",
    "                    .rename('max_body_mass')\n",
    "                    .sort_values(ascending=True)\n",
    "                    .plot(kind = \"barh\",\n",
    "                         title = \"Penguin body mass by species and year\")\n",
    ")"
   ]
  },
  {
   "cell_type": "code",
   "execution_count": null,
   "id": "a0377f08-1c00-44ea-a112-955910c4fcaf",
   "metadata": {},
   "outputs": [],
   "source": []
  }
 ],
 "metadata": {
  "kernelspec": {
   "display_name": "Anaconda 3 (Base)",
   "language": "python",
   "name": "base"
  },
  "language_info": {
   "codemirror_mode": {
    "name": "ipython",
    "version": 3
   },
   "file_extension": ".py",
   "mimetype": "text/x-python",
   "name": "python",
   "nbconvert_exporter": "python",
   "pygments_lexer": "ipython3",
   "version": "3.9.13"
  }
 },
 "nbformat": 4,
 "nbformat_minor": 5
}
