{
 "cells": [
  {
   "cell_type": "markdown",
   "id": "32e99cd7-46ed-4a5f-98ef-c15a59e99d90",
   "metadata": {},
   "source": [
    "# Python review\n",
    "\n",
    "Short review about some core concepts in Python exemplified by objects in the Numpy library.\n",
    "\n",
    "Goals:\n",
    "\n",
    "- recall basic Python vocabulary\n",
    "- practice markdown syntax\n",
    "\n",
    "## Libraries and packages\n",
    "\n",
    "**library:** a collection of code that we can use to perform specific tasks in our programs. It can be a single file or multiple files.\n",
    "\n",
    "**NumPy:** \n",
    "\n",
    "- core library for numerical computing in Python\n",
    "- many libraries use NumPy arrays as their building blocks\n",
    "- computations on NumPy objects are omptimized for speed and memory usage\n",
    "\n",
    "Let's import NumPy with its **standard abbreviation** `np`:"
   ]
  },
  {
   "cell_type": "code",
   "execution_count": 1,
   "id": "0737c362-a88d-4bd0-b066-77c1574f4e1b",
   "metadata": {
    "tags": []
   },
   "outputs": [],
   "source": [
    "import numpy as np"
   ]
  },
  {
   "cell_type": "markdown",
   "id": "7f268f1a-37c6-4a94-8ec4-9916df0c7fef",
   "metadata": {},
   "source": [
    "## Variables\n",
    "\n",
    "**variable:** a name we assign to a particular object in Python\n",
    "\n",
    "Example:"
   ]
  },
  {
   "cell_type": "code",
   "execution_count": 3,
   "id": "84be181a-7ff5-4c6b-ac8a-4414581f2aa8",
   "metadata": {
    "tags": []
   },
   "outputs": [],
   "source": [
    "# Assign a small array to variable a\n",
    "a = np.array([ [1,1,2], [3,5,8] ])"
   ]
  },
  {
   "cell_type": "markdown",
   "id": "032ace9f-f6a2-47d5-99e9-8e5db24cf58c",
   "metadata": {},
   "source": [
    "To view a variable's value from our Jupyter notebook:"
   ]
  },
  {
   "cell_type": "code",
   "execution_count": 4,
   "id": "aefa4fb1-7962-4d82-99a7-08e83c85053d",
   "metadata": {
    "tags": []
   },
   "outputs": [
    {
     "data": {
      "text/plain": [
       "array([[1, 1, 2],\n",
       "       [3, 5, 8]])"
      ]
     },
     "execution_count": 4,
     "metadata": {},
     "output_type": "execute_result"
    }
   ],
   "source": [
    "# Run cell with variable name to show value\n",
    "a"
   ]
  },
  {
   "cell_type": "code",
   "execution_count": 5,
   "id": "cc7f7a5c-a496-4a9d-85b9-43f4320349dc",
   "metadata": {
    "tags": []
   },
   "outputs": [
    {
     "name": "stdout",
     "output_type": "stream",
     "text": [
      "[[1 1 2]\n",
      " [3 5 8]]\n"
     ]
    }
   ],
   "source": [
    "# Use `print` function to print value\n",
    "print(a)"
   ]
  }
 ],
 "metadata": {
  "kernelspec": {
   "display_name": "Anaconda 3 (Base)",
   "language": "python",
   "name": "base"
  },
  "language_info": {
   "codemirror_mode": {
    "name": "ipython",
    "version": 3
   },
   "file_extension": ".py",
   "mimetype": "text/x-python",
   "name": "python",
   "nbconvert_exporter": "python",
   "pygments_lexer": "ipython3",
   "version": "3.9.13"
  }
 },
 "nbformat": 4,
 "nbformat_minor": 5
}
