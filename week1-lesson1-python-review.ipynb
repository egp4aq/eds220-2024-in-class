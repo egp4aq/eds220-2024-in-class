{
 "cells": [
  {
   "cell_type": "markdown",
   "id": "32e99cd7-46ed-4a5f-98ef-c15a59e99d90",
   "metadata": {},
   "source": [
    "# Python review\n",
    "\n",
    "Short review about some core concepts in Python exemplified by objects in the Numpy library.\n",
    "\n",
    "Goals:\n",
    "\n",
    "- recall basic Python vocabulary\n",
    "- practice markdown syntax\n",
    "\n",
    "## Libraries and packages\n",
    "\n",
    "**library:** a collection of code that we can use to perform specific tasks in our programs. It can be a single file or multiple files.\n",
    "\n",
    "**NumPy:** \n",
    "\n",
    "- core library for numerical computing in Python\n",
    "- many libraries use NumPy arrays as their building blocks\n",
    "- computations on NumPy objects are omptimized for speed and memory usage\n",
    "\n",
    "Let's import NumPy with its **standard abbreviation** `np`:"
   ]
  },
  {
   "cell_type": "code",
   "execution_count": 2,
   "id": "0737c362-a88d-4bd0-b066-77c1574f4e1b",
   "metadata": {
    "tags": []
   },
   "outputs": [],
   "source": [
    "import numpy as np"
   ]
  },
  {
   "cell_type": "markdown",
   "id": "7f268f1a-37c6-4a94-8ec4-9916df0c7fef",
   "metadata": {},
   "source": [
    "## Variables\n",
    "\n",
    "**variable:** a name we assign to a particular object in Python\n",
    "\n",
    "Example:"
   ]
  },
  {
   "cell_type": "code",
   "execution_count": 3,
   "id": "84be181a-7ff5-4c6b-ac8a-4414581f2aa8",
   "metadata": {
    "tags": []
   },
   "outputs": [],
   "source": [
    "# Assign a small array to variable a\n",
    "a = np.array([ [1,1,2], [3,5,8] ])"
   ]
  },
  {
   "cell_type": "markdown",
   "id": "032ace9f-f6a2-47d5-99e9-8e5db24cf58c",
   "metadata": {},
   "source": [
    "To view a variable's value from our Jupyter notebook:"
   ]
  },
  {
   "cell_type": "code",
   "execution_count": 4,
   "id": "aefa4fb1-7962-4d82-99a7-08e83c85053d",
   "metadata": {
    "tags": []
   },
   "outputs": [
    {
     "data": {
      "text/plain": [
       "array([[1, 1, 2],\n",
       "       [3, 5, 8]])"
      ]
     },
     "execution_count": 4,
     "metadata": {},
     "output_type": "execute_result"
    }
   ],
   "source": [
    "# Run cell with variable name to show value\n",
    "a"
   ]
  },
  {
   "cell_type": "code",
   "execution_count": 5,
   "id": "cc7f7a5c-a496-4a9d-85b9-43f4320349dc",
   "metadata": {
    "tags": []
   },
   "outputs": [
    {
     "name": "stdout",
     "output_type": "stream",
     "text": [
      "[[1 1 2]\n",
      " [3 5 8]]\n"
     ]
    }
   ],
   "source": [
    "# Use `print` function to print value\n",
    "print(a)"
   ]
  },
  {
   "cell_type": "markdown",
   "id": "3daeda37-1e61-425c-b93e-684902811ae2",
   "metadata": {},
   "source": [
    "## Naming convention: use `snake_case` for naming variables.\n",
    "\n",
    "This is the convention we will use in this course. Why? `my-variable` or `MyVariable` or `myVariable`, \n",
    "PEP 8 - Style Guide for Python Code recommends snake_case.\n",
    "\n",
    "**Remember** that variable names should both be descriptive and concise!\n",
    "\n",
    "## Objects\n",
    "\n",
    "**object:** (informally speaking) is a bundle of *properties* and *actions* about something specific.\n",
    "Object: data frame\n",
    "Properties: number of rows, names of columns, and date created\n",
    "Actions: selecting a specific row or adding a new column\n",
    "\n",
    "A variable is the name we give a specific object, and the same object can be referenced by different variables. \n",
    "\n",
    "In practice, we can often use the word variable and object interchangeably. \n",
    "\n",
    "## Types\n",
    "\n",
    "Every object in Python has a **type**. The type tells us what kind of object we have. \n",
    "We can also call the type of an object, the **class** of an object. So, type and class both mean the kind of object we have. "
   ]
  },
  {
   "cell_type": "code",
   "execution_count": 6,
   "id": "0cbcbeda-4004-4c51-9ecb-56ff01cfd197",
   "metadata": {
    "tags": []
   },
   "outputs": [
    {
     "name": "stdout",
     "output_type": "stream",
     "text": [
      "[[1 1 2]\n",
      " [3 5 8]]\n"
     ]
    }
   ],
   "source": [
    "print(a)"
   ]
  },
  {
   "cell_type": "code",
   "execution_count": 7,
   "id": "2cbd1bc7-392a-4e72-afc8-4dfcaaf44175",
   "metadata": {
    "tags": []
   },
   "outputs": [],
   "source": [
    "# See the type/class of a variable/object by using the `type` function"
   ]
  },
  {
   "cell_type": "code",
   "execution_count": 8,
   "id": "7f6c1ba1-f4ea-4dcf-ac2c-3ce7236c65ed",
   "metadata": {
    "tags": []
   },
   "outputs": [
    {
     "data": {
      "text/plain": [
       "numpy.ndarray"
      ]
     },
     "execution_count": 8,
     "metadata": {},
     "output_type": "execute_result"
    }
   ],
   "source": [
    "type(a)"
   ]
  },
  {
   "cell_type": "markdown",
   "id": "c04b1d77-3f94-4e96-b3f0-38299e439e53",
   "metadata": {},
   "source": [
    "The `numpy.ndarray` is the core object/data type of the NumPy package."
   ]
  },
  {
   "cell_type": "code",
   "execution_count": 10,
   "id": "82529516-8c78-4099-9355-712f839c7cdb",
   "metadata": {
    "tags": []
   },
   "outputs": [
    {
     "name": "stdout",
     "output_type": "stream",
     "text": [
      "1\n"
     ]
    },
    {
     "data": {
      "text/plain": [
       "numpy.int64"
      ]
     },
     "execution_count": 10,
     "metadata": {},
     "output_type": "execute_result"
    }
   ],
   "source": [
    "print(a[0,0])\n",
    "\n",
    "type(a[0,0])"
   ]
  },
  {
   "cell_type": "markdown",
   "id": "fec73a0d-3af5-4b49-8c57-bcd561bd8775",
   "metadata": {},
   "source": [
    "`numpy.int64` is not the standard Python integer type `int`.\n",
    "\n",
    "`numpy.int64` is a special data type in NumPy telling us that 1 is an integer stored as a 64-bit number.\n",
    "\n",
    "Check-in: acces the value 5 in array `a`."
   ]
  },
  {
   "cell_type": "code",
   "execution_count": 12,
   "id": "0917d9f6-797b-42d8-9b36-4f71802f15dd",
   "metadata": {
    "tags": []
   },
   "outputs": [
    {
     "name": "stdout",
     "output_type": "stream",
     "text": [
      "5\n"
     ]
    }
   ],
   "source": [
    "print(a[1,1])"
   ]
  },
  {
   "cell_type": "markdown",
   "id": "a3e73e23-56be-4cd0-8f08-1db732d72e7f",
   "metadata": {},
   "source": [
    "## Functions\n",
    "\n",
    "`print` was our first example of a Python **function**\n",
    "\n",
    "Functions take in a set of **arguments**, separated by commas, and use those arguments to create an **output**.\n",
    "\n",
    "In this course, we'll be using argument and parameter interchangeably. But they do have slightly different meanings.\n",
    "\n",
    "We can ask for information about what a function does by executing `?` followed by the function name:"
   ]
  },
  {
   "cell_type": "code",
   "execution_count": 13,
   "id": "b876f079-5bc5-4c2a-b957-9262fd93de86",
   "metadata": {
    "tags": []
   },
   "outputs": [
    {
     "data": {
      "text/plain": [
       "\u001b[0;31mDocstring:\u001b[0m\n",
       "print(value, ..., sep=' ', end='\\n', file=sys.stdout, flush=False)\n",
       "\n",
       "Prints the values to a stream, or to sys.stdout by default.\n",
       "Optional keyword arguments:\n",
       "file:  a file-like object (stream); defaults to the current sys.stdout.\n",
       "sep:   string inserted between values, default a space.\n",
       "end:   string appended after the last value, default a newline.\n",
       "flush: whether to forcibly flush the stream.\n",
       "\u001b[0;31mType:\u001b[0m      builtin_function_or_method\n"
      ]
     },
     "metadata": {},
     "output_type": "display_data"
    }
   ],
   "source": [
    "?print"
   ]
  },
  {
   "cell_type": "markdown",
   "id": "e5e8c1e3-31a1-4db1-82d1-7a458ae861b5",
   "metadata": {},
   "source": [
    "What we obtain is a **docstring**, a special type of comment that is used to document how a function (or a class or module) works.\n",
    "\n",
    "Notice that there are different types of arguments inside the function's parenthesis.\n",
    "\n",
    "Roughly speaking, a function has two types of arguments:\n",
    "\n",
    "- **non-optional arguments**: arguments that *you* have to specify for the function to work\n",
    "\n",
    "- **optional arguments**: arguments that are pre-filled wtih a default value by the function, but you can override them. Optional arguments appear inside the parentheses in the form `optional_argument = default_value`\n",
    "\n",
    "Example:\n",
    "\n",
    "`end` is a parameter in `print` with default value in a new line.\n",
    "We can pass the value `:)` to this parameter so that it finishes the line with `:)` instead"
   ]
  },
  {
   "cell_type": "code",
   "execution_count": 15,
   "id": "473ccdf3-edfe-4ba6-923e-26cdd98b7151",
   "metadata": {
    "tags": []
   },
   "outputs": [
    {
     "name": "stdout",
     "output_type": "stream",
     "text": [
      "Change the end parameter:)"
     ]
    }
   ],
   "source": [
    "print(\"Change the end parameter\", end=':)')"
   ]
  },
  {
   "cell_type": "markdown",
   "id": "f2e14e57-d0e7-405c-a67b-3059af1ed76b",
   "metadata": {},
   "source": [
    "## Attributes and methods\n",
    "\n",
    "An object in Python has attributes and methods.\n",
    "\n",
    "- **attribute**: a property of the object, some piece of information about it\n",
    "- **method**: a procedure associated with an object, actions that the object does\n",
    "\n",
    "Example: for class cat, the attributes would be name, color, age, weight, etc. The cat's methods would be meow(), nap(), chase_laser(), etc.\n",
    "\n",
    "Example:\n",
    "\n",
    "NumPy arrays have many methods and attributes. For example:"
   ]
  },
  {
   "cell_type": "code",
   "execution_count": 16,
   "id": "896296a8-1d30-453e-8fb9-401112ea2e03",
   "metadata": {
    "tags": []
   },
   "outputs": [
    {
     "data": {
      "text/plain": [
       "array([[1, 1, 2],\n",
       "       [3, 5, 8]])"
      ]
     },
     "execution_count": 16,
     "metadata": {},
     "output_type": "execute_result"
    }
   ],
   "source": [
    "a"
   ]
  },
  {
   "cell_type": "code",
   "execution_count": 18,
   "id": "14f3058b-a390-4cd3-9353-352aeb98bdc2",
   "metadata": {
    "tags": []
   },
   "outputs": [
    {
     "name": "stdout",
     "output_type": "stream",
     "text": [
      "[[1 3]\n",
      " [1 5]\n",
      " [2 8]]\n"
     ]
    }
   ],
   "source": [
    "# T is an example of an attribute, it returns the transpose of the array\n",
    "print(a.T)"
   ]
  },
  {
   "cell_type": "code",
   "execution_count": 19,
   "id": "b515ba00-0154-4c54-9de6-cccc83dc50d2",
   "metadata": {
    "tags": []
   },
   "outputs": [
    {
     "data": {
      "text/plain": [
       "numpy.ndarray"
      ]
     },
     "execution_count": 19,
     "metadata": {},
     "output_type": "execute_result"
    }
   ],
   "source": [
    "type(a.T)"
   ]
  },
  {
   "cell_type": "code",
   "execution_count": 27,
   "id": "6abd6e02-22de-41dd-854a-d275f2c350da",
   "metadata": {
    "tags": []
   },
   "outputs": [
    {
     "name": "stdout",
     "output_type": "stream",
     "text": [
      "(2, 3)\n",
      "<class 'tuple'>\n"
     ]
    }
   ],
   "source": [
    "# Shape is another attribute that tells us the shape of the array\n",
    "print(a.shape)\n",
    "print(type(a.shape))"
   ]
  },
  {
   "cell_type": "code",
   "execution_count": 26,
   "id": "c4d8a470-c29e-4961-860e-777752226231",
   "metadata": {
    "tags": []
   },
   "outputs": [
    {
     "name": "stdout",
     "output_type": "stream",
     "text": [
      "dim: 2 | type: <class 'int'>\n"
     ]
    }
   ],
   "source": [
    "# ndim is an attribute holding the number of array dimensions\n",
    "print(\"dim:\", a.ndim, \"| type:\", type(a.ndim))"
   ]
  },
  {
   "cell_type": "markdown",
   "id": "228825bc-6617-4a98-8015-6e0cb2bca581",
   "metadata": {},
   "source": [
    "Attributes for the same object can have many different types.\n",
    "\n",
    "Some examples of methods:"
   ]
  },
  {
   "cell_type": "code",
   "execution_count": 29,
   "id": "e7db2072-96b8-4aaf-a0ca-93167bdd4042",
   "metadata": {
    "tags": []
   },
   "outputs": [
    {
     "name": "stdout",
     "output_type": "stream",
     "text": [
      "[[1 1 2]\n",
      " [3 5 8]]\n"
     ]
    },
    {
     "data": {
      "text/plain": [
       "array([1, 1, 2])"
      ]
     },
     "execution_count": 29,
     "metadata": {},
     "output_type": "execute_result"
    }
   ],
   "source": [
    "# The min method returns the minimum value in the array along a specified axis.\n",
    "print(a)\n",
    "a.min(axis=0)"
   ]
  },
  {
   "cell_type": "code",
   "execution_count": 30,
   "id": "e7354a1b-0705-4a43-a602-d39601539ed5",
   "metadata": {
    "tags": []
   },
   "outputs": [
    {
     "data": {
      "text/plain": [
       "1"
      ]
     },
     "execution_count": 30,
     "metadata": {},
     "output_type": "execute_result"
    }
   ],
   "source": [
    "# Run min method without axis\n",
    "a.min()"
   ]
  },
  {
   "cell_type": "markdown",
   "id": "8c10056a-ed35-4abf-a986-7fc9acd65a3d",
   "metadata": {},
   "source": [
    "Remember that methods are functions associated with an object. We can confirm this:"
   ]
  },
  {
   "cell_type": "code",
   "execution_count": 31,
   "id": "a7e04e38-c33d-4360-833f-73110305209a",
   "metadata": {
    "tags": []
   },
   "outputs": [
    {
     "data": {
      "text/plain": [
       "[[1, 1, 2], [3, 5, 8]]"
      ]
     },
     "execution_count": 31,
     "metadata": {},
     "output_type": "execute_result"
    }
   ],
   "source": [
    "# method tolist() transforms array into a list\n",
    "a.tolist()"
   ]
  },
  {
   "cell_type": "code",
   "execution_count": 36,
   "id": "166ac3d9-7976-40d3-935f-405630af4ca5",
   "metadata": {
    "tags": []
   },
   "outputs": [
    {
     "data": {
      "text/plain": [
       "builtin_function_or_method"
      ]
     },
     "execution_count": 36,
     "metadata": {},
     "output_type": "execute_result"
    }
   ],
   "source": [
    "type(a.tolist)"
   ]
  },
  {
   "cell_type": "code",
   "execution_count": 41,
   "id": "c1c21591-9391-4bd1-a195-103059c76082",
   "metadata": {
    "tags": []
   },
   "outputs": [
    {
     "data": {
      "text/plain": [
       "\u001b[0;31mDocstring:\u001b[0m\n",
       "print(value, ..., sep=' ', end='\\n', file=sys.stdout, flush=False)\n",
       "\n",
       "Prints the values to a stream, or to sys.stdout by default.\n",
       "Optional keyword arguments:\n",
       "file:  a file-like object (stream); defaults to the current sys.stdout.\n",
       "sep:   string inserted between values, default a space.\n",
       "end:   string appended after the last value, default a newline.\n",
       "flush: whether to forcibly flush the stream.\n",
       "\u001b[0;31mType:\u001b[0m      builtin_function_or_method\n"
      ]
     },
     "metadata": {},
     "output_type": "display_data"
    }
   ],
   "source": [
    "?print"
   ]
  },
  {
   "cell_type": "code",
   "execution_count": 39,
   "id": "2e72d96c-e41c-4a00-a583-00e00b392d60",
   "metadata": {
    "tags": []
   },
   "outputs": [],
   "source": [
    "x = 77\n",
    "y = \"99\""
   ]
  },
  {
   "cell_type": "code",
   "execution_count": 42,
   "id": "bee6e6d4-774a-4dc3-8285-fe12a6729af7",
   "metadata": {
    "tags": []
   },
   "outputs": [
    {
     "name": "stdout",
     "output_type": "stream",
     "text": [
      "77%99%77\n"
     ]
    }
   ],
   "source": [
    "print(x,y,x,sep=\"%\")"
   ]
  },
  {
   "cell_type": "code",
   "execution_count": null,
   "id": "0a8e202b-4a32-4491-ad2a-de481db39abf",
   "metadata": {},
   "outputs": [],
   "source": []
  }
 ],
 "metadata": {
  "kernelspec": {
   "display_name": "Anaconda 3 (Base)",
   "language": "python",
   "name": "base"
  },
  "language_info": {
   "codemirror_mode": {
    "name": "ipython",
    "version": 3
   },
   "file_extension": ".py",
   "mimetype": "text/x-python",
   "name": "python",
   "nbconvert_exporter": "python",
   "pygments_lexer": "ipython3",
   "version": "3.9.13"
  }
 },
 "nbformat": 4,
 "nbformat_minor": 5
}
