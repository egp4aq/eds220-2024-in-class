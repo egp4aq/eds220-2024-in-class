{
 "cells": [
  {
   "cell_type": "markdown",
   "id": "830d6c01-0ccf-4411-9573-dec36af53dff",
   "metadata": {},
   "source": [
    "### Pandas"
   ]
  },
  {
   "cell_type": "code",
   "execution_count": 1,
   "id": "f83d2129-c4fa-4a6e-a6d7-577ad6c39c3b",
   "metadata": {},
   "outputs": [],
   "source": [
    "import pandas as pd\n",
    "import numpy as np"
   ]
  },
  {
   "cell_type": "markdown",
   "id": "1c033129-fd40-45e4-9ac0-0e98ac7556fd",
   "metadata": {},
   "source": [
    "### Series"
   ]
  },
  {
   "cell_type": "code",
   "execution_count": 2,
   "id": "3d52d90f-eee5-4091-8804-32e64e87612e",
   "metadata": {
    "tags": []
   },
   "outputs": [
    {
     "name": "stdout",
     "output_type": "stream",
     "text": [
      "<class 'numpy.ndarray'>\n",
      "[ 1.6796552  -0.76714472 -0.05102919 -0.28200094] \n",
      "\n",
      "<class 'pandas.core.series.Series'>\n",
      "0    1.679655\n",
      "1   -0.767145\n",
      "2   -0.051029\n",
      "3   -0.282001\n",
      "dtype: float64\n"
     ]
    }
   ],
   "source": [
    "# A numpy array\n",
    "arr = np.random.randn(4) # random values from std normal distribution\n",
    "print(type(arr))\n",
    "print(arr, \"\\n\")\n",
    "\n",
    "# A pandas series made from the previous array\n",
    "s = pd.Series(arr)\n",
    "print(type(s))\n",
    "print(s)"
   ]
  },
  {
   "cell_type": "markdown",
   "id": "bc1c6fb4-ffd4-4e41-a9d1-e20d9fbca494",
   "metadata": {},
   "source": [
    "### Creating a pandas.Series"
   ]
  },
  {
   "cell_type": "code",
   "execution_count": 4,
   "id": "215dbefa-193b-4f0d-9dc3-da9cdfbdd7e4",
   "metadata": {
    "tags": []
   },
   "outputs": [],
   "source": [
    "# s = pd.Series(data, index=index)"
   ]
  },
  {
   "cell_type": "code",
   "execution_count": 5,
   "id": "a50a62ea-3ec1-4f47-9640-e87fd064915b",
   "metadata": {
    "tags": []
   },
   "outputs": [
    {
     "data": {
      "text/plain": [
       "2023    0\n",
       "2024    1\n",
       "2025    2\n",
       "dtype: int64"
      ]
     },
     "execution_count": 5,
     "metadata": {},
     "output_type": "execute_result"
    }
   ],
   "source": [
    "# A series from a numpy array \n",
    "pd.Series(np.arange(3), index=[2023, 2024, 2025])"
   ]
  },
  {
   "cell_type": "code",
   "execution_count": 6,
   "id": "b78d0866-679f-455e-a7f6-c2bfd9a6dfc5",
   "metadata": {
    "tags": []
   },
   "outputs": [
    {
     "data": {
      "text/plain": [
       "key_0    2\n",
       "key_1    3\n",
       "key_2    5\n",
       "dtype: object"
      ]
     },
     "execution_count": 6,
     "metadata": {},
     "output_type": "execute_result"
    }
   ],
   "source": [
    "# Construct dictionary\n",
    "d = {'key_0':2, 'key_1':'3', 'key_2':5}\n",
    "\n",
    "# Initialize series using a dictionary\n",
    "pd.Series(d)"
   ]
  },
  {
   "cell_type": "code",
   "execution_count": 7,
   "id": "3b1bbc00-023e-4fbf-8620-ddfc14770479",
   "metadata": {
    "tags": []
   },
   "outputs": [
    {
     "data": {
      "text/plain": [
       "A    3.0\n",
       "B    3.0\n",
       "C    3.0\n",
       "dtype: float64"
      ]
     },
     "execution_count": 7,
     "metadata": {},
     "output_type": "execute_result"
    }
   ],
   "source": [
    "pd.Series(3.0, index = ['A', 'B', 'C'])"
   ]
  },
  {
   "cell_type": "markdown",
   "id": "72efaccb-51a0-45ab-b604-45efc109ac69",
   "metadata": {},
   "source": [
    "### Simple operations"
   ]
  },
  {
   "cell_type": "code",
   "execution_count": 8,
   "id": "961877d1-e821-48d2-a85a-5617c214db49",
   "metadata": {
    "tags": []
   },
   "outputs": [
    {
     "name": "stdout",
     "output_type": "stream",
     "text": [
      "Andrea      9.8\n",
      "Beth        7.3\n",
      "Carolina    6.5\n",
      "dtype: float64 \n",
      "\n",
      "Andrea      3.637971e+42\n",
      "Beth        5.052394e+31\n",
      "Carolina    1.694889e+28\n",
      "dtype: float64 \n",
      "\n",
      "Andrea      98\n",
      "Beth        73\n",
      "Carolina    65\n",
      "dtype: int64\n"
     ]
    }
   ],
   "source": [
    "# Define a series\n",
    "s = pd.Series([98,73,65],index=['Andrea', 'Beth', 'Carolina'])\n",
    "\n",
    "# Divide each element in series by 10\n",
    "print(s /10, '\\n')\n",
    "\n",
    "# Take the exponential of each element in series\n",
    "print(np.exp(s), '\\n')\n",
    "\n",
    "# Original series is unchanged\n",
    "print(s)"
   ]
  },
  {
   "cell_type": "code",
   "execution_count": 9,
   "id": "18f3b491-006a-4fb1-bbad-6a25b31a349f",
   "metadata": {
    "tags": []
   },
   "outputs": [
    {
     "data": {
      "text/plain": [
       "Andrea       True\n",
       "Beth         True\n",
       "Carolina    False\n",
       "dtype: bool"
      ]
     },
     "execution_count": 9,
     "metadata": {},
     "output_type": "execute_result"
    }
   ],
   "source": [
    "s > 70"
   ]
  },
  {
   "cell_type": "markdown",
   "id": "a563ebd8-09eb-46f7-9bcd-2b69c24aa5c4",
   "metadata": {},
   "source": [
    "### Identifying missing values"
   ]
  },
  {
   "cell_type": "code",
   "execution_count": 10,
   "id": "57077863-48f7-485b-9760-31c58b9854b3",
   "metadata": {
    "tags": []
   },
   "outputs": [
    {
     "data": {
      "text/plain": [
       "0    1.0\n",
       "1    2.0\n",
       "2    NaN\n",
       "3    4.0\n",
       "4    NaN\n",
       "dtype: float64"
      ]
     },
     "execution_count": 10,
     "metadata": {},
     "output_type": "execute_result"
    }
   ],
   "source": [
    "# Series with NAs in it\n",
    "s = pd.Series([1, 2, np.nan, 4, np.nan])\n",
    "s"
   ]
  },
  {
   "cell_type": "code",
   "execution_count": 11,
   "id": "4102741b-5331-4cc1-b839-49e6caf471d1",
   "metadata": {
    "tags": []
   },
   "outputs": [
    {
     "data": {
      "text/plain": [
       "True"
      ]
     },
     "execution_count": 11,
     "metadata": {},
     "output_type": "execute_result"
    }
   ],
   "source": [
    "# Check if series has NAs\n",
    "s.hasnans"
   ]
  },
  {
   "cell_type": "code",
   "execution_count": 12,
   "id": "03427fd6-9f35-4f5e-a2fc-ff8c26475ff8",
   "metadata": {
    "tags": []
   },
   "outputs": [
    {
     "data": {
      "text/plain": [
       "0    False\n",
       "1    False\n",
       "2     True\n",
       "3    False\n",
       "4     True\n",
       "dtype: bool"
      ]
     },
     "execution_count": 12,
     "metadata": {},
     "output_type": "execute_result"
    }
   ],
   "source": [
    "s.isna()"
   ]
  },
  {
   "cell_type": "markdown",
   "id": "0635e82b-3c68-448b-bb0c-0c77c41de7a9",
   "metadata": {},
   "source": [
    "### Check-in 1:"
   ]
  },
  {
   "cell_type": "code",
   "execution_count": 14,
   "id": "b9e8774f-ed7d-4c60-bad8-eba821716147",
   "metadata": {
    "tags": []
   },
   "outputs": [
    {
     "data": {
      "text/plain": [
       "A    10.0\n",
       "B     NaN\n",
       "C    12.0\n",
       "D     NaN\n",
       "dtype: float64"
      ]
     },
     "execution_count": 14,
     "metadata": {},
     "output_type": "execute_result"
    }
   ],
   "source": [
    "s = pd.Series([10,-999,12,-999],index=['A', 'B', 'C','D'])\n",
    "s.mask(s == -999)"
   ]
  },
  {
   "cell_type": "markdown",
   "id": "2974b1e5-34f0-40e1-a841-13bdc012a777",
   "metadata": {},
   "source": [
    "### Data frames & creating a pandas.DataFrame"
   ]
  },
  {
   "cell_type": "code",
   "execution_count": 15,
   "id": "44b39c7d-8933-4042-8540-a7930d40e55f",
   "metadata": {
    "tags": []
   },
   "outputs": [
    {
     "data": {
      "text/html": [
       "<div>\n",
       "<style scoped>\n",
       "    .dataframe tbody tr th:only-of-type {\n",
       "        vertical-align: middle;\n",
       "    }\n",
       "\n",
       "    .dataframe tbody tr th {\n",
       "        vertical-align: top;\n",
       "    }\n",
       "\n",
       "    .dataframe thead th {\n",
       "        text-align: right;\n",
       "    }\n",
       "</style>\n",
       "<table border=\"1\" class=\"dataframe\">\n",
       "  <thead>\n",
       "    <tr style=\"text-align: right;\">\n",
       "      <th></th>\n",
       "      <th>col_name_1</th>\n",
       "      <th>col_name_2</th>\n",
       "    </tr>\n",
       "  </thead>\n",
       "  <tbody>\n",
       "    <tr>\n",
       "      <th>0</th>\n",
       "      <td>0</td>\n",
       "      <td>3.1</td>\n",
       "    </tr>\n",
       "    <tr>\n",
       "      <th>1</th>\n",
       "      <td>1</td>\n",
       "      <td>3.2</td>\n",
       "    </tr>\n",
       "    <tr>\n",
       "      <th>2</th>\n",
       "      <td>2</td>\n",
       "      <td>3.3</td>\n",
       "    </tr>\n",
       "  </tbody>\n",
       "</table>\n",
       "</div>"
      ],
      "text/plain": [
       "   col_name_1  col_name_2\n",
       "0           0         3.1\n",
       "1           1         3.2\n",
       "2           2         3.3"
      ]
     },
     "execution_count": 15,
     "metadata": {},
     "output_type": "execute_result"
    }
   ],
   "source": [
    "# Initialize dictionary with columns' data \n",
    "d = {'col_name_1' : pd.Series(np.arange(3)),\n",
    "     'col_name_2' : pd.Series([3.1, 3.2, 3.3]),\n",
    "     }\n",
    "\n",
    "# Create data frame\n",
    "df = pd.DataFrame(d)\n",
    "df"
   ]
  },
  {
   "cell_type": "code",
   "execution_count": 16,
   "id": "95cf3be5-4ae0-4867-b8e2-f8ba0218039c",
   "metadata": {
    "tags": []
   },
   "outputs": [
    {
     "data": {
      "text/html": [
       "<div>\n",
       "<style scoped>\n",
       "    .dataframe tbody tr th:only-of-type {\n",
       "        vertical-align: middle;\n",
       "    }\n",
       "\n",
       "    .dataframe tbody tr th {\n",
       "        vertical-align: top;\n",
       "    }\n",
       "\n",
       "    .dataframe thead th {\n",
       "        text-align: right;\n",
       "    }\n",
       "</style>\n",
       "<table border=\"1\" class=\"dataframe\">\n",
       "  <thead>\n",
       "    <tr style=\"text-align: right;\">\n",
       "      <th></th>\n",
       "      <th>col_name_1</th>\n",
       "      <th>col_name_2</th>\n",
       "    </tr>\n",
       "  </thead>\n",
       "  <tbody>\n",
       "    <tr>\n",
       "      <th>a</th>\n",
       "      <td>0</td>\n",
       "      <td>3.1</td>\n",
       "    </tr>\n",
       "    <tr>\n",
       "      <th>b</th>\n",
       "      <td>1</td>\n",
       "      <td>3.2</td>\n",
       "    </tr>\n",
       "    <tr>\n",
       "      <th>c</th>\n",
       "      <td>2</td>\n",
       "      <td>3.3</td>\n",
       "    </tr>\n",
       "  </tbody>\n",
       "</table>\n",
       "</div>"
      ],
      "text/plain": [
       "   col_name_1  col_name_2\n",
       "a           0         3.1\n",
       "b           1         3.2\n",
       "c           2         3.3"
      ]
     },
     "execution_count": 16,
     "metadata": {},
     "output_type": "execute_result"
    }
   ],
   "source": [
    "# Change index\n",
    "df.index = ['a','b','c']\n",
    "df"
   ]
  },
  {
   "cell_type": "markdown",
   "id": "c27d8cd2-b8af-4971-bbc7-64f4a1569bb5",
   "metadata": {},
   "source": [
    "### Check-in 2:"
   ]
  },
  {
   "cell_type": "code",
   "execution_count": 19,
   "id": "7ffcce03-3ae3-4717-9a7f-ce0d418e48c5",
   "metadata": {
    "tags": []
   },
   "outputs": [
    {
     "data": {
      "text/html": [
       "<div>\n",
       "<style scoped>\n",
       "    .dataframe tbody tr th:only-of-type {\n",
       "        vertical-align: middle;\n",
       "    }\n",
       "\n",
       "    .dataframe tbody tr th {\n",
       "        vertical-align: top;\n",
       "    }\n",
       "\n",
       "    .dataframe thead th {\n",
       "        text-align: right;\n",
       "    }\n",
       "</style>\n",
       "<table border=\"1\" class=\"dataframe\">\n",
       "  <thead>\n",
       "    <tr style=\"text-align: right;\">\n",
       "      <th></th>\n",
       "      <th>C1</th>\n",
       "      <th>C2</th>\n",
       "    </tr>\n",
       "  </thead>\n",
       "  <tbody>\n",
       "    <tr>\n",
       "      <th>a</th>\n",
       "      <td>0</td>\n",
       "      <td>3.1</td>\n",
       "    </tr>\n",
       "    <tr>\n",
       "      <th>b</th>\n",
       "      <td>1</td>\n",
       "      <td>3.2</td>\n",
       "    </tr>\n",
       "    <tr>\n",
       "      <th>c</th>\n",
       "      <td>2</td>\n",
       "      <td>3.3</td>\n",
       "    </tr>\n",
       "  </tbody>\n",
       "</table>\n",
       "</div>"
      ],
      "text/plain": [
       "   C1   C2\n",
       "a   0  3.1\n",
       "b   1  3.2\n",
       "c   2  3.3"
      ]
     },
     "execution_count": 19,
     "metadata": {},
     "output_type": "execute_result"
    }
   ],
   "source": [
    "df.columns = ['C1','C2']\n",
    "df"
   ]
  },
  {
   "cell_type": "markdown",
   "id": "cd1cb28e-c28b-4e5f-9bf9-a58eb10a41b4",
   "metadata": {},
   "source": [
    "### Summary of lesson"
   ]
  },
  {
   "cell_type": "markdown",
   "id": "8cc83b92-2e6f-417d-860b-62b5f1aaca06",
   "metadata": {},
   "source": [
    "This lesson explains how to use the pandas library to create two objects: series and dataframes. \n",
    "\n",
    "A series is a one-dimensional array of indexed data. The pandas.Series method can be called on a list or NumPy array, a Python dictionary, or a single number, boolean, or string. \n",
    "Simple arithmetic operations can be used on series. There are a lot of methods that can be called on series to manipulate them. \n",
    "\n",
    "A dataframe represents tabular data and can be thought of as a spreadsheet. In pandas, the pandas.DataFrame is a dictionary of pandas.Series, where each column name is the key and the column values is the key's value. Similarly to series, we can call different methods on dataframes to manipulate them. "
   ]
  }
 ],
 "metadata": {
  "kernelspec": {
   "display_name": "Anaconda 3 (Base)",
   "language": "python",
   "name": "base"
  },
  "language_info": {
   "codemirror_mode": {
    "name": "ipython",
    "version": 3
   },
   "file_extension": ".py",
   "mimetype": "text/x-python",
   "name": "python",
   "nbconvert_exporter": "python",
   "pygments_lexer": "ipython3",
   "version": "3.9.13"
  }
 },
 "nbformat": 4,
 "nbformat_minor": 5
}
